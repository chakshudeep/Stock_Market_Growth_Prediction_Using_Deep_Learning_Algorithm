{
  "nbformat": 4,
  "nbformat_minor": 0,
  "metadata": {
    "colab": {
      "name": "StockMarketGrowthPrediction.ipynb",
      "provenance": [],
      "collapsed_sections": [],
      "authorship_tag": "ABX9TyMOVLvH0sSefAcfbW1m12Zf",
      "include_colab_link": true
    },
    "kernelspec": {
      "name": "python3",
      "display_name": "Python 3"
    },
    "language_info": {
      "name": "python"
    }
  },
  "cells": [
    {
      "cell_type": "markdown",
      "metadata": {
        "id": "view-in-github",
        "colab_type": "text"
      },
      "source": [
        "<a href=\"https://colab.research.google.com/github/chakshudeep/Stock_Market_Growth_Prediction_Using_Deep_Learning_Algorithm/blob/main/StockMarketGrowthPrediction.ipynb\" target=\"_parent\"><img src=\"https://colab.research.google.com/assets/colab-badge.svg\" alt=\"Open In Colab\"/></a>"
      ]
    },
    {
      "cell_type": "code",
      "execution_count": 1,
      "metadata": {
        "id": "1mSpRA2Jxy8J"
      },
      "outputs": [],
      "source": [
        "import pandas_datareader as pdr\n",
        "import pandas as pd\n",
        "import matplotlib.pyplot as plt\n",
        "import numpy as np\n",
        "from sklearn.preprocessing import MinMaxScaler\n",
        "from sklearn.metrics import mean_squared_error\n",
        "from tensorflow.keras.models import Sequential\n",
        "from tensorflow.keras.layers import Dense\n",
        "from tensorflow.keras.layers import LSTM\n",
        "import tensorflow as tf\n",
        "import math"
      ]
    },
    {
      "cell_type": "code",
      "source": [
        "df=pdr.get_data_tiingo('AAPL',api_key='9ddeed86010071097a5d2d76b6118a109fed45ee')"
      ],
      "metadata": {
        "colab": {
          "base_uri": "https://localhost:8080/"
        },
        "id": "q16gAcpEzdYp",
        "outputId": "49321f58-20dd-474a-d4a3-fd3dffd08035"
      },
      "execution_count": 2,
      "outputs": [
        {
          "output_type": "stream",
          "name": "stderr",
          "text": [
            "/usr/local/lib/python3.7/dist-packages/pandas_datareader/tiingo.py:234: FutureWarning: In a future version of pandas all arguments of concat except for the argument 'objs' will be keyword-only\n",
            "  return pd.concat(dfs, self._concat_axis)\n"
          ]
        }
      ]
    },
    {
      "cell_type": "code",
      "source": [
        "df.to_csv('AAPL.csv')\n",
        "df=pd.read_csv('AAPL.csv')\n",
        "df.head()"
      ],
      "metadata": {
        "colab": {
          "base_uri": "https://localhost:8080/",
          "height": 357
        },
        "id": "_IpFTBtp1n0N",
        "outputId": "dd41a805-db1a-4b3c-d880-a68cfbfb50a4"
      },
      "execution_count": 3,
      "outputs": [
        {
          "output_type": "execute_result",
          "data": {
            "text/plain": [
              "  symbol                       date   close    high     low    open    volume  \\\n",
              "0   AAPL  2017-07-17 00:00:00+00:00  149.56  150.90  148.57  148.82  23243713   \n",
              "1   AAPL  2017-07-18 00:00:00+00:00  150.08  150.13  148.67  149.20  17713795   \n",
              "2   AAPL  2017-07-19 00:00:00+00:00  151.02  151.42  149.95  150.48  20615419   \n",
              "3   AAPL  2017-07-20 00:00:00+00:00  150.34  151.74  150.19  151.50  17053326   \n",
              "4   AAPL  2017-07-21 00:00:00+00:00  150.27  150.44  148.88  149.99  24671002   \n",
              "\n",
              "    adjClose    adjHigh     adjLow    adjOpen  adjVolume  divCash  splitFactor  \n",
              "0  35.389423  35.706498  35.155165  35.214321   92974852      0.0          1.0  \n",
              "1  35.512467  35.524298  35.178828  35.304238   70855180      0.0          1.0  \n",
              "2  35.734893  35.829543  35.481706  35.607116   82461676      0.0          1.0  \n",
              "3  35.573989  35.905262  35.538496  35.848473   68213304      0.0          1.0  \n",
              "4  35.557426  35.597652  35.228519  35.491171   98684008      0.0          1.0  "
            ],
            "text/html": [
              "\n",
              "  <div id=\"df-ea3b12d9-6499-4ffc-a43c-9e0e27225740\">\n",
              "    <div class=\"colab-df-container\">\n",
              "      <div>\n",
              "<style scoped>\n",
              "    .dataframe tbody tr th:only-of-type {\n",
              "        vertical-align: middle;\n",
              "    }\n",
              "\n",
              "    .dataframe tbody tr th {\n",
              "        vertical-align: top;\n",
              "    }\n",
              "\n",
              "    .dataframe thead th {\n",
              "        text-align: right;\n",
              "    }\n",
              "</style>\n",
              "<table border=\"1\" class=\"dataframe\">\n",
              "  <thead>\n",
              "    <tr style=\"text-align: right;\">\n",
              "      <th></th>\n",
              "      <th>symbol</th>\n",
              "      <th>date</th>\n",
              "      <th>close</th>\n",
              "      <th>high</th>\n",
              "      <th>low</th>\n",
              "      <th>open</th>\n",
              "      <th>volume</th>\n",
              "      <th>adjClose</th>\n",
              "      <th>adjHigh</th>\n",
              "      <th>adjLow</th>\n",
              "      <th>adjOpen</th>\n",
              "      <th>adjVolume</th>\n",
              "      <th>divCash</th>\n",
              "      <th>splitFactor</th>\n",
              "    </tr>\n",
              "  </thead>\n",
              "  <tbody>\n",
              "    <tr>\n",
              "      <th>0</th>\n",
              "      <td>AAPL</td>\n",
              "      <td>2017-07-17 00:00:00+00:00</td>\n",
              "      <td>149.56</td>\n",
              "      <td>150.90</td>\n",
              "      <td>148.57</td>\n",
              "      <td>148.82</td>\n",
              "      <td>23243713</td>\n",
              "      <td>35.389423</td>\n",
              "      <td>35.706498</td>\n",
              "      <td>35.155165</td>\n",
              "      <td>35.214321</td>\n",
              "      <td>92974852</td>\n",
              "      <td>0.0</td>\n",
              "      <td>1.0</td>\n",
              "    </tr>\n",
              "    <tr>\n",
              "      <th>1</th>\n",
              "      <td>AAPL</td>\n",
              "      <td>2017-07-18 00:00:00+00:00</td>\n",
              "      <td>150.08</td>\n",
              "      <td>150.13</td>\n",
              "      <td>148.67</td>\n",
              "      <td>149.20</td>\n",
              "      <td>17713795</td>\n",
              "      <td>35.512467</td>\n",
              "      <td>35.524298</td>\n",
              "      <td>35.178828</td>\n",
              "      <td>35.304238</td>\n",
              "      <td>70855180</td>\n",
              "      <td>0.0</td>\n",
              "      <td>1.0</td>\n",
              "    </tr>\n",
              "    <tr>\n",
              "      <th>2</th>\n",
              "      <td>AAPL</td>\n",
              "      <td>2017-07-19 00:00:00+00:00</td>\n",
              "      <td>151.02</td>\n",
              "      <td>151.42</td>\n",
              "      <td>149.95</td>\n",
              "      <td>150.48</td>\n",
              "      <td>20615419</td>\n",
              "      <td>35.734893</td>\n",
              "      <td>35.829543</td>\n",
              "      <td>35.481706</td>\n",
              "      <td>35.607116</td>\n",
              "      <td>82461676</td>\n",
              "      <td>0.0</td>\n",
              "      <td>1.0</td>\n",
              "    </tr>\n",
              "    <tr>\n",
              "      <th>3</th>\n",
              "      <td>AAPL</td>\n",
              "      <td>2017-07-20 00:00:00+00:00</td>\n",
              "      <td>150.34</td>\n",
              "      <td>151.74</td>\n",
              "      <td>150.19</td>\n",
              "      <td>151.50</td>\n",
              "      <td>17053326</td>\n",
              "      <td>35.573989</td>\n",
              "      <td>35.905262</td>\n",
              "      <td>35.538496</td>\n",
              "      <td>35.848473</td>\n",
              "      <td>68213304</td>\n",
              "      <td>0.0</td>\n",
              "      <td>1.0</td>\n",
              "    </tr>\n",
              "    <tr>\n",
              "      <th>4</th>\n",
              "      <td>AAPL</td>\n",
              "      <td>2017-07-21 00:00:00+00:00</td>\n",
              "      <td>150.27</td>\n",
              "      <td>150.44</td>\n",
              "      <td>148.88</td>\n",
              "      <td>149.99</td>\n",
              "      <td>24671002</td>\n",
              "      <td>35.557426</td>\n",
              "      <td>35.597652</td>\n",
              "      <td>35.228519</td>\n",
              "      <td>35.491171</td>\n",
              "      <td>98684008</td>\n",
              "      <td>0.0</td>\n",
              "      <td>1.0</td>\n",
              "    </tr>\n",
              "  </tbody>\n",
              "</table>\n",
              "</div>\n",
              "      <button class=\"colab-df-convert\" onclick=\"convertToInteractive('df-ea3b12d9-6499-4ffc-a43c-9e0e27225740')\"\n",
              "              title=\"Convert this dataframe to an interactive table.\"\n",
              "              style=\"display:none;\">\n",
              "        \n",
              "  <svg xmlns=\"http://www.w3.org/2000/svg\" height=\"24px\"viewBox=\"0 0 24 24\"\n",
              "       width=\"24px\">\n",
              "    <path d=\"M0 0h24v24H0V0z\" fill=\"none\"/>\n",
              "    <path d=\"M18.56 5.44l.94 2.06.94-2.06 2.06-.94-2.06-.94-.94-2.06-.94 2.06-2.06.94zm-11 1L8.5 8.5l.94-2.06 2.06-.94-2.06-.94L8.5 2.5l-.94 2.06-2.06.94zm10 10l.94 2.06.94-2.06 2.06-.94-2.06-.94-.94-2.06-.94 2.06-2.06.94z\"/><path d=\"M17.41 7.96l-1.37-1.37c-.4-.4-.92-.59-1.43-.59-.52 0-1.04.2-1.43.59L10.3 9.45l-7.72 7.72c-.78.78-.78 2.05 0 2.83L4 21.41c.39.39.9.59 1.41.59.51 0 1.02-.2 1.41-.59l7.78-7.78 2.81-2.81c.8-.78.8-2.07 0-2.86zM5.41 20L4 18.59l7.72-7.72 1.47 1.35L5.41 20z\"/>\n",
              "  </svg>\n",
              "      </button>\n",
              "      \n",
              "  <style>\n",
              "    .colab-df-container {\n",
              "      display:flex;\n",
              "      flex-wrap:wrap;\n",
              "      gap: 12px;\n",
              "    }\n",
              "\n",
              "    .colab-df-convert {\n",
              "      background-color: #E8F0FE;\n",
              "      border: none;\n",
              "      border-radius: 50%;\n",
              "      cursor: pointer;\n",
              "      display: none;\n",
              "      fill: #1967D2;\n",
              "      height: 32px;\n",
              "      padding: 0 0 0 0;\n",
              "      width: 32px;\n",
              "    }\n",
              "\n",
              "    .colab-df-convert:hover {\n",
              "      background-color: #E2EBFA;\n",
              "      box-shadow: 0px 1px 2px rgba(60, 64, 67, 0.3), 0px 1px 3px 1px rgba(60, 64, 67, 0.15);\n",
              "      fill: #174EA6;\n",
              "    }\n",
              "\n",
              "    [theme=dark] .colab-df-convert {\n",
              "      background-color: #3B4455;\n",
              "      fill: #D2E3FC;\n",
              "    }\n",
              "\n",
              "    [theme=dark] .colab-df-convert:hover {\n",
              "      background-color: #434B5C;\n",
              "      box-shadow: 0px 1px 3px 1px rgba(0, 0, 0, 0.15);\n",
              "      filter: drop-shadow(0px 1px 2px rgba(0, 0, 0, 0.3));\n",
              "      fill: #FFFFFF;\n",
              "    }\n",
              "  </style>\n",
              "\n",
              "      <script>\n",
              "        const buttonEl =\n",
              "          document.querySelector('#df-ea3b12d9-6499-4ffc-a43c-9e0e27225740 button.colab-df-convert');\n",
              "        buttonEl.style.display =\n",
              "          google.colab.kernel.accessAllowed ? 'block' : 'none';\n",
              "\n",
              "        async function convertToInteractive(key) {\n",
              "          const element = document.querySelector('#df-ea3b12d9-6499-4ffc-a43c-9e0e27225740');\n",
              "          const dataTable =\n",
              "            await google.colab.kernel.invokeFunction('convertToInteractive',\n",
              "                                                     [key], {});\n",
              "          if (!dataTable) return;\n",
              "\n",
              "          const docLinkHtml = 'Like what you see? Visit the ' +\n",
              "            '<a target=\"_blank\" href=https://colab.research.google.com/notebooks/data_table.ipynb>data table notebook</a>'\n",
              "            + ' to learn more about interactive tables.';\n",
              "          element.innerHTML = '';\n",
              "          dataTable['output_type'] = 'display_data';\n",
              "          await google.colab.output.renderOutput(dataTable, element);\n",
              "          const docLink = document.createElement('div');\n",
              "          docLink.innerHTML = docLinkHtml;\n",
              "          element.appendChild(docLink);\n",
              "        }\n",
              "      </script>\n",
              "    </div>\n",
              "  </div>\n",
              "  "
            ]
          },
          "metadata": {},
          "execution_count": 3
        }
      ]
    },
    {
      "cell_type": "code",
      "source": [
        "df.tail()"
      ],
      "metadata": {
        "colab": {
          "base_uri": "https://localhost:8080/",
          "height": 357
        },
        "id": "m2w8QLH535cp",
        "outputId": "a69c4266-c434-4974-a688-406d51302d85"
      },
      "execution_count": 4,
      "outputs": [
        {
          "output_type": "execute_result",
          "data": {
            "text/plain": [
              "     symbol                       date   close    high       low     open  \\\n",
              "1252   AAPL  2022-07-07 00:00:00+00:00  146.35  146.55  143.2800  143.290   \n",
              "1253   AAPL  2022-07-08 00:00:00+00:00  147.04  147.55  145.0000  145.265   \n",
              "1254   AAPL  2022-07-11 00:00:00+00:00  144.87  146.64  143.7800  145.670   \n",
              "1255   AAPL  2022-07-12 00:00:00+00:00  145.86  148.45  145.0500  145.760   \n",
              "1256   AAPL  2022-07-13 00:00:00+00:00  145.49  146.45  142.1201  142.990   \n",
              "\n",
              "        volume  adjClose  adjHigh    adjLow  adjOpen  adjVolume  divCash  \\\n",
              "1252  66253709    146.35   146.55  143.2800  143.290   66253709      0.0   \n",
              "1253  64547798    147.04   147.55  145.0000  145.265   64547798      0.0   \n",
              "1254  63305113    144.87   146.64  143.7800  145.670   63305113      0.0   \n",
              "1255  77588759    145.86   148.45  145.0500  145.760   77588759      0.0   \n",
              "1256  71185560    145.49   146.45  142.1201  142.990   71185560      0.0   \n",
              "\n",
              "      splitFactor  \n",
              "1252          1.0  \n",
              "1253          1.0  \n",
              "1254          1.0  \n",
              "1255          1.0  \n",
              "1256          1.0  "
            ],
            "text/html": [
              "\n",
              "  <div id=\"df-ea167444-63b6-42d3-b560-60a3a7a69c9e\">\n",
              "    <div class=\"colab-df-container\">\n",
              "      <div>\n",
              "<style scoped>\n",
              "    .dataframe tbody tr th:only-of-type {\n",
              "        vertical-align: middle;\n",
              "    }\n",
              "\n",
              "    .dataframe tbody tr th {\n",
              "        vertical-align: top;\n",
              "    }\n",
              "\n",
              "    .dataframe thead th {\n",
              "        text-align: right;\n",
              "    }\n",
              "</style>\n",
              "<table border=\"1\" class=\"dataframe\">\n",
              "  <thead>\n",
              "    <tr style=\"text-align: right;\">\n",
              "      <th></th>\n",
              "      <th>symbol</th>\n",
              "      <th>date</th>\n",
              "      <th>close</th>\n",
              "      <th>high</th>\n",
              "      <th>low</th>\n",
              "      <th>open</th>\n",
              "      <th>volume</th>\n",
              "      <th>adjClose</th>\n",
              "      <th>adjHigh</th>\n",
              "      <th>adjLow</th>\n",
              "      <th>adjOpen</th>\n",
              "      <th>adjVolume</th>\n",
              "      <th>divCash</th>\n",
              "      <th>splitFactor</th>\n",
              "    </tr>\n",
              "  </thead>\n",
              "  <tbody>\n",
              "    <tr>\n",
              "      <th>1252</th>\n",
              "      <td>AAPL</td>\n",
              "      <td>2022-07-07 00:00:00+00:00</td>\n",
              "      <td>146.35</td>\n",
              "      <td>146.55</td>\n",
              "      <td>143.2800</td>\n",
              "      <td>143.290</td>\n",
              "      <td>66253709</td>\n",
              "      <td>146.35</td>\n",
              "      <td>146.55</td>\n",
              "      <td>143.2800</td>\n",
              "      <td>143.290</td>\n",
              "      <td>66253709</td>\n",
              "      <td>0.0</td>\n",
              "      <td>1.0</td>\n",
              "    </tr>\n",
              "    <tr>\n",
              "      <th>1253</th>\n",
              "      <td>AAPL</td>\n",
              "      <td>2022-07-08 00:00:00+00:00</td>\n",
              "      <td>147.04</td>\n",
              "      <td>147.55</td>\n",
              "      <td>145.0000</td>\n",
              "      <td>145.265</td>\n",
              "      <td>64547798</td>\n",
              "      <td>147.04</td>\n",
              "      <td>147.55</td>\n",
              "      <td>145.0000</td>\n",
              "      <td>145.265</td>\n",
              "      <td>64547798</td>\n",
              "      <td>0.0</td>\n",
              "      <td>1.0</td>\n",
              "    </tr>\n",
              "    <tr>\n",
              "      <th>1254</th>\n",
              "      <td>AAPL</td>\n",
              "      <td>2022-07-11 00:00:00+00:00</td>\n",
              "      <td>144.87</td>\n",
              "      <td>146.64</td>\n",
              "      <td>143.7800</td>\n",
              "      <td>145.670</td>\n",
              "      <td>63305113</td>\n",
              "      <td>144.87</td>\n",
              "      <td>146.64</td>\n",
              "      <td>143.7800</td>\n",
              "      <td>145.670</td>\n",
              "      <td>63305113</td>\n",
              "      <td>0.0</td>\n",
              "      <td>1.0</td>\n",
              "    </tr>\n",
              "    <tr>\n",
              "      <th>1255</th>\n",
              "      <td>AAPL</td>\n",
              "      <td>2022-07-12 00:00:00+00:00</td>\n",
              "      <td>145.86</td>\n",
              "      <td>148.45</td>\n",
              "      <td>145.0500</td>\n",
              "      <td>145.760</td>\n",
              "      <td>77588759</td>\n",
              "      <td>145.86</td>\n",
              "      <td>148.45</td>\n",
              "      <td>145.0500</td>\n",
              "      <td>145.760</td>\n",
              "      <td>77588759</td>\n",
              "      <td>0.0</td>\n",
              "      <td>1.0</td>\n",
              "    </tr>\n",
              "    <tr>\n",
              "      <th>1256</th>\n",
              "      <td>AAPL</td>\n",
              "      <td>2022-07-13 00:00:00+00:00</td>\n",
              "      <td>145.49</td>\n",
              "      <td>146.45</td>\n",
              "      <td>142.1201</td>\n",
              "      <td>142.990</td>\n",
              "      <td>71185560</td>\n",
              "      <td>145.49</td>\n",
              "      <td>146.45</td>\n",
              "      <td>142.1201</td>\n",
              "      <td>142.990</td>\n",
              "      <td>71185560</td>\n",
              "      <td>0.0</td>\n",
              "      <td>1.0</td>\n",
              "    </tr>\n",
              "  </tbody>\n",
              "</table>\n",
              "</div>\n",
              "      <button class=\"colab-df-convert\" onclick=\"convertToInteractive('df-ea167444-63b6-42d3-b560-60a3a7a69c9e')\"\n",
              "              title=\"Convert this dataframe to an interactive table.\"\n",
              "              style=\"display:none;\">\n",
              "        \n",
              "  <svg xmlns=\"http://www.w3.org/2000/svg\" height=\"24px\"viewBox=\"0 0 24 24\"\n",
              "       width=\"24px\">\n",
              "    <path d=\"M0 0h24v24H0V0z\" fill=\"none\"/>\n",
              "    <path d=\"M18.56 5.44l.94 2.06.94-2.06 2.06-.94-2.06-.94-.94-2.06-.94 2.06-2.06.94zm-11 1L8.5 8.5l.94-2.06 2.06-.94-2.06-.94L8.5 2.5l-.94 2.06-2.06.94zm10 10l.94 2.06.94-2.06 2.06-.94-2.06-.94-.94-2.06-.94 2.06-2.06.94z\"/><path d=\"M17.41 7.96l-1.37-1.37c-.4-.4-.92-.59-1.43-.59-.52 0-1.04.2-1.43.59L10.3 9.45l-7.72 7.72c-.78.78-.78 2.05 0 2.83L4 21.41c.39.39.9.59 1.41.59.51 0 1.02-.2 1.41-.59l7.78-7.78 2.81-2.81c.8-.78.8-2.07 0-2.86zM5.41 20L4 18.59l7.72-7.72 1.47 1.35L5.41 20z\"/>\n",
              "  </svg>\n",
              "      </button>\n",
              "      \n",
              "  <style>\n",
              "    .colab-df-container {\n",
              "      display:flex;\n",
              "      flex-wrap:wrap;\n",
              "      gap: 12px;\n",
              "    }\n",
              "\n",
              "    .colab-df-convert {\n",
              "      background-color: #E8F0FE;\n",
              "      border: none;\n",
              "      border-radius: 50%;\n",
              "      cursor: pointer;\n",
              "      display: none;\n",
              "      fill: #1967D2;\n",
              "      height: 32px;\n",
              "      padding: 0 0 0 0;\n",
              "      width: 32px;\n",
              "    }\n",
              "\n",
              "    .colab-df-convert:hover {\n",
              "      background-color: #E2EBFA;\n",
              "      box-shadow: 0px 1px 2px rgba(60, 64, 67, 0.3), 0px 1px 3px 1px rgba(60, 64, 67, 0.15);\n",
              "      fill: #174EA6;\n",
              "    }\n",
              "\n",
              "    [theme=dark] .colab-df-convert {\n",
              "      background-color: #3B4455;\n",
              "      fill: #D2E3FC;\n",
              "    }\n",
              "\n",
              "    [theme=dark] .colab-df-convert:hover {\n",
              "      background-color: #434B5C;\n",
              "      box-shadow: 0px 1px 3px 1px rgba(0, 0, 0, 0.15);\n",
              "      filter: drop-shadow(0px 1px 2px rgba(0, 0, 0, 0.3));\n",
              "      fill: #FFFFFF;\n",
              "    }\n",
              "  </style>\n",
              "\n",
              "      <script>\n",
              "        const buttonEl =\n",
              "          document.querySelector('#df-ea167444-63b6-42d3-b560-60a3a7a69c9e button.colab-df-convert');\n",
              "        buttonEl.style.display =\n",
              "          google.colab.kernel.accessAllowed ? 'block' : 'none';\n",
              "\n",
              "        async function convertToInteractive(key) {\n",
              "          const element = document.querySelector('#df-ea167444-63b6-42d3-b560-60a3a7a69c9e');\n",
              "          const dataTable =\n",
              "            await google.colab.kernel.invokeFunction('convertToInteractive',\n",
              "                                                     [key], {});\n",
              "          if (!dataTable) return;\n",
              "\n",
              "          const docLinkHtml = 'Like what you see? Visit the ' +\n",
              "            '<a target=\"_blank\" href=https://colab.research.google.com/notebooks/data_table.ipynb>data table notebook</a>'\n",
              "            + ' to learn more about interactive tables.';\n",
              "          element.innerHTML = '';\n",
              "          dataTable['output_type'] = 'display_data';\n",
              "          await google.colab.output.renderOutput(dataTable, element);\n",
              "          const docLink = document.createElement('div');\n",
              "          docLink.innerHTML = docLinkHtml;\n",
              "          element.appendChild(docLink);\n",
              "        }\n",
              "      </script>\n",
              "    </div>\n",
              "  </div>\n",
              "  "
            ]
          },
          "metadata": {},
          "execution_count": 4
        }
      ]
    },
    {
      "cell_type": "code",
      "source": [
        "df1=df.reset_index()['close']\n",
        "df1.shape\n",
        "df1"
      ],
      "metadata": {
        "colab": {
          "base_uri": "https://localhost:8080/"
        },
        "id": "zLhsy0j841S1",
        "outputId": "2a432183-bbc4-46ce-e2ae-d7e2b3614d6e"
      },
      "execution_count": 5,
      "outputs": [
        {
          "output_type": "execute_result",
          "data": {
            "text/plain": [
              "0       149.56\n",
              "1       150.08\n",
              "2       151.02\n",
              "3       150.34\n",
              "4       150.27\n",
              "         ...  \n",
              "1252    146.35\n",
              "1253    147.04\n",
              "1254    144.87\n",
              "1255    145.86\n",
              "1256    145.49\n",
              "Name: close, Length: 1257, dtype: float64"
            ]
          },
          "metadata": {},
          "execution_count": 5
        }
      ]
    },
    {
      "cell_type": "code",
      "source": [
        "plt.plot(df1)"
      ],
      "metadata": {
        "colab": {
          "base_uri": "https://localhost:8080/",
          "height": 282
        },
        "id": "ZHiEanhF5Sh_",
        "outputId": "64c52ed0-8d9e-4378-db02-5b7e4da226e5"
      },
      "execution_count": 6,
      "outputs": [
        {
          "output_type": "execute_result",
          "data": {
            "text/plain": [
              "[<matplotlib.lines.Line2D at 0x7fdd7816e610>]"
            ]
          },
          "metadata": {},
          "execution_count": 6
        },
        {
          "output_type": "display_data",
          "data": {
            "text/plain": [
              "<Figure size 432x288 with 1 Axes>"
            ],
            "image/png": "[encoded data removed]"
          },
          "metadata": {
            "needs_background": "light"
          }
        }
      ]
    },
    {
      "cell_type": "code",
      "source": [
        "#transforming the data\n",
        "scaler=MinMaxScaler(feature_range=(0,1))\n",
        "df1=scaler.fit_transform(np.array(df1).reshape(-1,1))\n",
        "df1.shape"
      ],
      "metadata": {
        "colab": {
          "base_uri": "https://localhost:8080/"
        },
        "id": "6YY__RbR5zb9",
        "outputId": "38b39f1f-1c68-40cd-bc13-cb2c00f794f8"
      },
      "execution_count": 7,
      "outputs": [
        {
          "output_type": "execute_result",
          "data": {
            "text/plain": [
              "(1257, 1)"
            ]
          },
          "metadata": {},
          "execution_count": 7
        }
      ]
    },
    {
      "cell_type": "code",
      "source": [
        "df1"
      ],
      "metadata": {
        "colab": {
          "base_uri": "https://localhost:8080/"
        },
        "id": "v895dRxx6bXd",
        "outputId": "90b454c9-22f2-4952-cf93-fc3182edcf0e"
      },
      "execution_count": 8,
      "outputs": [
        {
          "output_type": "execute_result",
          "data": {
            "text/plain": [
              "array([[0.10700063],\n",
              "       [0.10830307],\n",
              "       [0.11065748],\n",
              "       ...,\n",
              "       [0.0952536 ],\n",
              "       [0.09773325],\n",
              "       [0.09680651]])"
            ]
          },
          "metadata": {},
          "execution_count": 8
        }
      ]
    },
    {
      "cell_type": "code",
      "source": [
        "#splitting datset into train and test data\n",
        "training_size=int(len(df1)*0.65)\n",
        "testing_size=len(df1)-training_size\n",
        "train_data,test_data=df1[0:training_size,:],df1[training_size:len(df1),:1]"
      ],
      "metadata": {
        "id": "jIHkdVFa6wee"
      },
      "execution_count": 9,
      "outputs": []
    },
    {
      "cell_type": "code",
      "source": [
        "len(train_data),len(test_data)"
      ],
      "metadata": {
        "colab": {
          "base_uri": "https://localhost:8080/"
        },
        "id": "UY8VCyj99pPl",
        "outputId": "466ffed2-adcd-48f8-d3be-2ae514820bf8"
      },
      "execution_count": 10,
      "outputs": [
        {
          "output_type": "execute_result",
          "data": {
            "text/plain": [
              "(817, 440)"
            ]
          },
          "metadata": {},
          "execution_count": 10
        }
      ]
    },
    {
      "cell_type": "code",
      "source": [
        " #converting array of values into a dataset matrix\n",
        " import numpy\n",
        " def create_dataset(dataset,time_step=1):\n",
        "   dataX, dataY=[], []\n",
        "   for i in range(len(dataset)-time_step-1):\n",
        "     a=dataset[i:(i+time_step),0]\n",
        "     dataX.append(a)\n",
        "     dataY.append(dataset[i+time_step,0])\n",
        "   return numpy.array(dataX),numpy.array(dataY)"
      ],
      "metadata": {
        "id": "jMUp1Lud98cO"
      },
      "execution_count": 11,
      "outputs": []
    },
    {
      "cell_type": "code",
      "source": [
        "#reshaping the data as X=t,t+1,t+2 and Y=t+4\n",
        "time_step=100\n",
        "X_train, Y_train= create_dataset(train_data, time_step)\n",
        "X_test, Y_test= create_dataset(test_data, time_step)"
      ],
      "metadata": {
        "id": "7sm3h9kiHkxI"
      },
      "execution_count": 12,
      "outputs": []
    },
    {
      "cell_type": "code",
      "source": [
        "print(X_train.shape) ,print(Y_train.shape)"
      ],
      "metadata": {
        "colab": {
          "base_uri": "https://localhost:8080/"
        },
        "id": "5uGCB1JQK5V6",
        "outputId": "da42528f-b8da-43f0-f8e8-9908ee6ff074"
      },
      "execution_count": 13,
      "outputs": [
        {
          "output_type": "stream",
          "name": "stdout",
          "text": [
            "(716, 100)\n",
            "(716,)\n"
          ]
        },
        {
          "output_type": "execute_result",
          "data": {
            "text/plain": [
              "(None, None)"
            ]
          },
          "metadata": {},
          "execution_count": 13
        }
      ]
    },
    {
      "cell_type": "code",
      "source": [
        "print(X_test.shape), print(Y_test.shape)"
      ],
      "metadata": {
        "colab": {
          "base_uri": "https://localhost:8080/"
        },
        "id": "eyrlRq7rLeB5",
        "outputId": "d7910ad8-0540-4203-88f1-87da591729eb"
      },
      "execution_count": 14,
      "outputs": [
        {
          "output_type": "stream",
          "name": "stdout",
          "text": [
            "(339, 100)\n",
            "(339,)\n"
          ]
        },
        {
          "output_type": "execute_result",
          "data": {
            "text/plain": [
              "(None, None)"
            ]
          },
          "metadata": {},
          "execution_count": 14
        }
      ]
    },
    {
      "cell_type": "code",
      "source": [
        "#reshaping data for LSTM in 3D [samples,time_steps,features]\n",
        "X_train=X_train.reshape(X_train.shape[0],X_train.shape[1],1)\n",
        "X_test=X_test.reshape(X_test.shape[0],X_test.shape[1],1)"
      ],
      "metadata": {
        "id": "sbDPM8y3L7Nm"
      },
      "execution_count": 15,
      "outputs": []
    },
    {
      "cell_type": "code",
      "source": [
        "#creating our Staxked LSTM model\n",
        "model=Sequential()\n",
        "model.add(LSTM(50,return_sequences=True,input_shape=(100,1)))\n",
        "model.add(LSTM(50,return_sequences=True))\n",
        "model.add(LSTM(50))\n",
        "model.add(Dense(1))\n",
        "model.compile(loss='mean_squared_error',optimizer='adam')"
      ],
      "metadata": {
        "id": "-6xUa13kNb4h"
      },
      "execution_count": 16,
      "outputs": []
    },
    {
      "cell_type": "code",
      "source": [
        "model.summary()"
      ],
      "metadata": {
        "colab": {
          "base_uri": "https://localhost:8080/"
        },
        "id": "bCxdk1XtOPGv",
        "outputId": "ca1d3a19-5c68-44e3-8bec-c5e3b4b9bf5b"
      },
      "execution_count": 17,
      "outputs": [
        {
          "output_type": "stream",
          "name": "stdout",
          "text": [
            "Model: \"sequential\"\n",
            "_________________________________________________________________\n",
            " Layer (type)                Output Shape              Param #   \n",
            "=================================================================\n",
            " lstm (LSTM)                 (None, 100, 50)           10400     \n",
            "                                                                 \n",
            " lstm_1 (LSTM)               (None, 100, 50)           20200     \n",
            "                                                                 \n",
            " lstm_2 (LSTM)               (None, 50)                20200     \n",
            "                                                                 \n",
            " dense (Dense)               (None, 1)                 51        \n",
            "                                                                 \n",
            "=================================================================\n",
            "Total params: 50,851\n",
            "Trainable params: 50,851\n",
            "Non-trainable params: 0\n",
            "_________________________________________________________________\n"
          ]
        }
      ]
    },
    {
      "cell_type": "code",
      "source": [
        "model.fit(X_train,Y_train,validation_data=(X_test,Y_test),epochs=100,batch_size=64,verbose=1)"
      ],
      "metadata": {
        "colab": {
          "base_uri": "https://localhost:8080/"
        },
        "id": "DxprRyhpO1vt",
        "outputId": "075a489c-344c-4b7c-e71a-38a05e5b20c8"
      },
      "execution_count": 18,
      "outputs": [
        {
          "output_type": "stream",
          "name": "stdout",
          "text": [
            "Epoch 1/100\n",
            "12/12 [==============================] - 20s 674ms/step - loss: 0.0465 - val_loss: 0.0040\n",
            "Epoch 2/100\n",
            "12/12 [==============================] - 4s 310ms/step - loss: 0.0132 - val_loss: 0.0029\n",
            "Epoch 3/100\n",
            "12/12 [==============================] - 2s 184ms/step - loss: 0.0103 - val_loss: 0.0017\n",
            "Epoch 4/100\n",
            "12/12 [==============================] - 2s 183ms/step - loss: 0.0105 - val_loss: 4.4529e-04\n",
            "Epoch 5/100\n",
            "12/12 [==============================] - 2s 182ms/step - loss: 0.0083 - val_loss: 4.1623e-04\n",
            "Epoch 6/100\n",
            "12/12 [==============================] - 2s 184ms/step - loss: 0.0073 - val_loss: 5.6340e-04\n",
            "Epoch 7/100\n",
            "12/12 [==============================] - 2s 189ms/step - loss: 0.0065 - val_loss: 5.0860e-04\n",
            "Epoch 8/100\n",
            "12/12 [==============================] - 2s 183ms/step - loss: 0.0057 - val_loss: 5.1359e-04\n",
            "Epoch 9/100\n",
            "12/12 [==============================] - 2s 187ms/step - loss: 0.0055 - val_loss: 3.1758e-04\n",
            "Epoch 10/100\n",
            "12/12 [==============================] - 2s 183ms/step - loss: 0.0048 - val_loss: 7.4527e-04\n",
            "Epoch 11/100\n",
            "12/12 [==============================] - 2s 185ms/step - loss: 0.0041 - val_loss: 7.6420e-04\n",
            "Epoch 12/100\n",
            "12/12 [==============================] - 2s 186ms/step - loss: 0.0048 - val_loss: 5.5121e-04\n",
            "Epoch 13/100\n",
            "12/12 [==============================] - 2s 186ms/step - loss: 0.0036 - val_loss: 6.0782e-04\n",
            "Epoch 14/100\n",
            "12/12 [==============================] - 2s 185ms/step - loss: 0.0037 - val_loss: 3.5935e-04\n",
            "Epoch 15/100\n",
            "12/12 [==============================] - 2s 186ms/step - loss: 0.0039 - val_loss: 3.8546e-04\n",
            "Epoch 16/100\n",
            "12/12 [==============================] - 2s 185ms/step - loss: 0.0032 - val_loss: 6.7938e-04\n",
            "Epoch 17/100\n",
            "12/12 [==============================] - 2s 183ms/step - loss: 0.0033 - val_loss: 4.7703e-04\n",
            "Epoch 18/100\n",
            "12/12 [==============================] - 2s 186ms/step - loss: 0.0037 - val_loss: 2.1580e-04\n",
            "Epoch 19/100\n",
            "12/12 [==============================] - 2s 187ms/step - loss: 0.0037 - val_loss: 3.3686e-04\n",
            "Epoch 20/100\n",
            "12/12 [==============================] - 2s 190ms/step - loss: 0.0043 - val_loss: 2.7154e-04\n",
            "Epoch 21/100\n",
            "12/12 [==============================] - 2s 187ms/step - loss: 0.0039 - val_loss: 4.7389e-04\n",
            "Epoch 22/100\n",
            "12/12 [==============================] - 2s 185ms/step - loss: 0.0029 - val_loss: 2.6972e-04\n",
            "Epoch 23/100\n",
            "12/12 [==============================] - 2s 187ms/step - loss: 0.0028 - val_loss: 2.0959e-04\n",
            "Epoch 24/100\n",
            "12/12 [==============================] - 2s 187ms/step - loss: 0.0037 - val_loss: 2.2090e-04\n",
            "Epoch 25/100\n",
            "12/12 [==============================] - 2s 187ms/step - loss: 0.0030 - val_loss: 3.2275e-04\n",
            "Epoch 26/100\n",
            "12/12 [==============================] - 2s 186ms/step - loss: 0.0023 - val_loss: 2.2926e-04\n",
            "Epoch 27/100\n",
            "12/12 [==============================] - 2s 187ms/step - loss: 0.0046 - val_loss: 0.0012\n",
            "Epoch 28/100\n",
            "12/12 [==============================] - 2s 188ms/step - loss: 0.0044 - val_loss: 6.0888e-04\n",
            "Epoch 29/100\n",
            "12/12 [==============================] - 2s 185ms/step - loss: 0.0032 - val_loss: 2.0297e-04\n",
            "Epoch 30/100\n",
            "12/12 [==============================] - 2s 189ms/step - loss: 0.0026 - val_loss: 5.6895e-04\n",
            "Epoch 31/100\n",
            "12/12 [==============================] - 2s 184ms/step - loss: 0.0023 - val_loss: 2.4751e-04\n",
            "Epoch 32/100\n",
            "12/12 [==============================] - 2s 186ms/step - loss: 0.0021 - val_loss: 2.5336e-04\n",
            "Epoch 33/100\n",
            "12/12 [==============================] - 2s 187ms/step - loss: 0.0022 - val_loss: 3.3247e-04\n",
            "Epoch 34/100\n",
            "12/12 [==============================] - 2s 186ms/step - loss: 0.0026 - val_loss: 4.7608e-04\n",
            "Epoch 35/100\n",
            "12/12 [==============================] - 2s 188ms/step - loss: 0.0020 - val_loss: 2.5461e-04\n",
            "Epoch 36/100\n",
            "12/12 [==============================] - 2s 187ms/step - loss: 0.0025 - val_loss: 2.5950e-04\n",
            "Epoch 37/100\n",
            "12/12 [==============================] - 2s 185ms/step - loss: 0.0020 - val_loss: 2.2427e-04\n",
            "Epoch 38/100\n",
            "12/12 [==============================] - 2s 189ms/step - loss: 0.0021 - val_loss: 2.7150e-04\n",
            "Epoch 39/100\n",
            "12/12 [==============================] - 2s 186ms/step - loss: 0.0021 - val_loss: 2.0231e-04\n",
            "Epoch 40/100\n",
            "12/12 [==============================] - 2s 186ms/step - loss: 0.0019 - val_loss: 2.0328e-04\n",
            "Epoch 41/100\n",
            "12/12 [==============================] - 2s 188ms/step - loss: 0.0017 - val_loss: 2.6908e-04\n",
            "Epoch 42/100\n",
            "12/12 [==============================] - 2s 187ms/step - loss: 0.0017 - val_loss: 2.7324e-04\n",
            "Epoch 43/100\n",
            "12/12 [==============================] - 2s 187ms/step - loss: 0.0016 - val_loss: 2.3289e-04\n",
            "Epoch 44/100\n",
            "12/12 [==============================] - 2s 188ms/step - loss: 0.0020 - val_loss: 2.7191e-04\n",
            "Epoch 45/100\n",
            "12/12 [==============================] - 2s 187ms/step - loss: 0.0018 - val_loss: 2.2134e-04\n",
            "Epoch 46/100\n",
            "12/12 [==============================] - 3s 229ms/step - loss: 0.0019 - val_loss: 2.6210e-04\n",
            "Epoch 47/100\n",
            "12/12 [==============================] - 2s 190ms/step - loss: 0.0024 - val_loss: 3.9584e-04\n",
            "Epoch 48/100\n",
            "12/12 [==============================] - 2s 188ms/step - loss: 0.0019 - val_loss: 2.5931e-04\n",
            "Epoch 49/100\n",
            "12/12 [==============================] - 2s 185ms/step - loss: 0.0019 - val_loss: 3.7786e-04\n",
            "Epoch 50/100\n",
            "12/12 [==============================] - 2s 188ms/step - loss: 0.0020 - val_loss: 3.5794e-04\n",
            "Epoch 51/100\n",
            "12/12 [==============================] - 2s 205ms/step - loss: 0.0020 - val_loss: 6.6939e-04\n",
            "Epoch 52/100\n",
            "12/12 [==============================] - 3s 240ms/step - loss: 0.0022 - val_loss: 5.0749e-04\n",
            "Epoch 53/100\n",
            "12/12 [==============================] - 2s 192ms/step - loss: 0.0017 - val_loss: 2.0565e-04\n",
            "Epoch 54/100\n",
            "12/12 [==============================] - 2s 184ms/step - loss: 0.0015 - val_loss: 2.4055e-04\n",
            "Epoch 55/100\n",
            "12/12 [==============================] - 2s 186ms/step - loss: 0.0023 - val_loss: 3.4620e-04\n",
            "Epoch 56/100\n",
            "12/12 [==============================] - 2s 190ms/step - loss: 0.0025 - val_loss: 3.0577e-04\n",
            "Epoch 57/100\n",
            "12/12 [==============================] - 2s 189ms/step - loss: 0.0029 - val_loss: 6.7877e-04\n",
            "Epoch 58/100\n",
            "12/12 [==============================] - 2s 187ms/step - loss: 0.0022 - val_loss: 2.4437e-04\n",
            "Epoch 59/100\n",
            "12/12 [==============================] - 2s 187ms/step - loss: 0.0016 - val_loss: 2.4334e-04\n",
            "Epoch 60/100\n",
            "12/12 [==============================] - 2s 186ms/step - loss: 0.0015 - val_loss: 2.4578e-04\n",
            "Epoch 61/100\n",
            "12/12 [==============================] - 2s 187ms/step - loss: 0.0015 - val_loss: 2.4925e-04\n",
            "Epoch 62/100\n",
            "12/12 [==============================] - 2s 203ms/step - loss: 0.0016 - val_loss: 2.8904e-04\n",
            "Epoch 63/100\n",
            "12/12 [==============================] - 4s 359ms/step - loss: 0.0015 - val_loss: 2.1091e-04\n",
            "Epoch 64/100\n",
            "12/12 [==============================] - 5s 392ms/step - loss: 0.0015 - val_loss: 2.6239e-04\n",
            "Epoch 65/100\n",
            "12/12 [==============================] - 5s 424ms/step - loss: 0.0015 - val_loss: 3.8900e-04\n",
            "Epoch 66/100\n",
            "12/12 [==============================] - 4s 373ms/step - loss: 0.0015 - val_loss: 2.6405e-04\n",
            "Epoch 67/100\n",
            "12/12 [==============================] - 5s 407ms/step - loss: 0.0016 - val_loss: 8.5029e-04\n",
            "Epoch 68/100\n",
            "12/12 [==============================] - 5s 402ms/step - loss: 0.0024 - val_loss: 2.6101e-04\n",
            "Epoch 69/100\n",
            "12/12 [==============================] - 4s 357ms/step - loss: 0.0035 - val_loss: 4.0421e-04\n",
            "Epoch 70/100\n",
            "12/12 [==============================] - 4s 352ms/step - loss: 0.0027 - val_loss: 5.2170e-04\n",
            "Epoch 71/100\n",
            "12/12 [==============================] - 4s 330ms/step - loss: 0.0022 - val_loss: 2.0012e-04\n",
            "Epoch 72/100\n",
            "12/12 [==============================] - 4s 311ms/step - loss: 0.0018 - val_loss: 2.9103e-04\n",
            "Epoch 73/100\n",
            "12/12 [==============================] - 4s 323ms/step - loss: 0.0018 - val_loss: 2.1969e-04\n",
            "Epoch 74/100\n",
            "12/12 [==============================] - 4s 309ms/step - loss: 0.0015 - val_loss: 4.4921e-04\n",
            "Epoch 75/100\n",
            "12/12 [==============================] - 4s 307ms/step - loss: 0.0014 - val_loss: 3.2729e-04\n",
            "Epoch 76/100\n",
            "12/12 [==============================] - 4s 316ms/step - loss: 0.0017 - val_loss: 4.4526e-04\n",
            "Epoch 77/100\n",
            "12/12 [==============================] - 4s 313ms/step - loss: 0.0015 - val_loss: 2.0910e-04\n",
            "Epoch 78/100\n",
            "12/12 [==============================] - 4s 304ms/step - loss: 0.0016 - val_loss: 2.4638e-04\n",
            "Epoch 79/100\n",
            "12/12 [==============================] - 4s 312ms/step - loss: 0.0015 - val_loss: 2.4463e-04\n",
            "Epoch 80/100\n",
            "12/12 [==============================] - 4s 297ms/step - loss: 0.0015 - val_loss: 2.2283e-04\n",
            "Epoch 81/100\n",
            "12/12 [==============================] - 4s 302ms/step - loss: 0.0016 - val_loss: 2.1448e-04\n",
            "Epoch 82/100\n",
            "12/12 [==============================] - 4s 315ms/step - loss: 0.0015 - val_loss: 2.8550e-04\n",
            "Epoch 83/100\n",
            "12/12 [==============================] - 4s 305ms/step - loss: 0.0015 - val_loss: 3.1047e-04\n",
            "Epoch 84/100\n",
            "12/12 [==============================] - 5s 384ms/step - loss: 0.0015 - val_loss: 4.1997e-04\n",
            "Epoch 85/100\n",
            "12/12 [==============================] - 4s 360ms/step - loss: 0.0014 - val_loss: 3.1448e-04\n",
            "Epoch 86/100\n",
            "12/12 [==============================] - 2s 192ms/step - loss: 0.0013 - val_loss: 4.3006e-04\n",
            "Epoch 87/100\n",
            "12/12 [==============================] - 2s 189ms/step - loss: 0.0012 - val_loss: 4.1695e-04\n",
            "Epoch 88/100\n",
            "12/12 [==============================] - 2s 187ms/step - loss: 0.0013 - val_loss: 5.6573e-04\n",
            "Epoch 89/100\n",
            "12/12 [==============================] - 2s 187ms/step - loss: 0.0012 - val_loss: 4.2674e-04\n",
            "Epoch 90/100\n",
            "12/12 [==============================] - 2s 191ms/step - loss: 0.0014 - val_loss: 5.9716e-04\n",
            "Epoch 91/100\n",
            "12/12 [==============================] - 2s 187ms/step - loss: 0.0033 - val_loss: 0.0024\n",
            "Epoch 92/100\n",
            "12/12 [==============================] - 2s 187ms/step - loss: 0.0034 - val_loss: 6.5588e-04\n",
            "Epoch 93/100\n",
            "12/12 [==============================] - 2s 189ms/step - loss: 0.0022 - val_loss: 2.5819e-04\n",
            "Epoch 94/100\n",
            "12/12 [==============================] - 2s 187ms/step - loss: 0.0024 - val_loss: 3.1900e-04\n",
            "Epoch 95/100\n",
            "12/12 [==============================] - 2s 185ms/step - loss: 0.0018 - val_loss: 4.9690e-04\n",
            "Epoch 96/100\n",
            "12/12 [==============================] - 2s 188ms/step - loss: 0.0015 - val_loss: 3.1452e-04\n",
            "Epoch 97/100\n",
            "12/12 [==============================] - 3s 229ms/step - loss: 0.0014 - val_loss: 3.4671e-04\n",
            "Epoch 98/100\n",
            "12/12 [==============================] - 2s 189ms/step - loss: 0.0015 - val_loss: 4.8695e-04\n",
            "Epoch 99/100\n",
            "12/12 [==============================] - 2s 188ms/step - loss: 0.0015 - val_loss: 2.7989e-04\n",
            "Epoch 100/100\n",
            "12/12 [==============================] - 2s 190ms/step - loss: 0.0015 - val_loss: 3.2939e-04\n"
          ]
        },
        {
          "output_type": "execute_result",
          "data": {
            "text/plain": [
              "<keras.callbacks.History at 0x7fdd7372f310>"
            ]
          },
          "metadata": {},
          "execution_count": 18
        }
      ]
    },
    {
      "cell_type": "code",
      "source": [
        "#prediction\n",
        "train_predict=model.predict(X_train)\n",
        "test_predict=model.predict(X_test)"
      ],
      "metadata": {
        "id": "0Nrj77sDQTpZ"
      },
      "execution_count": 19,
      "outputs": []
    },
    {
      "cell_type": "code",
      "source": [
        "#transform back to original form----inverse tranformation\n",
        "train_predict=scaler.inverse_transform(train_predict)\n",
        "test_predict=scaler.inverse_transform(test_predict)"
      ],
      "metadata": {
        "id": "05rckO3GRquA"
      },
      "execution_count": 20,
      "outputs": []
    },
    {
      "cell_type": "code",
      "source": [
        "#RMSE performance metrics\n",
        "#train data RMSE\n",
        "math.sqrt(mean_squared_error(Y_train,train_predict))"
      ],
      "metadata": {
        "colab": {
          "base_uri": "https://localhost:8080/"
        },
        "id": "CNdwKPh4SHhg",
        "outputId": "af813d0e-dd52-4336-caa3-d59727eb3a06"
      },
      "execution_count": 21,
      "outputs": [
        {
          "output_type": "execute_result",
          "data": {
            "text/plain": [
              "236.73274551756265"
            ]
          },
          "metadata": {},
          "execution_count": 21
        }
      ]
    },
    {
      "cell_type": "code",
      "source": [
        "#test data RMSE\n",
        "math.sqrt(mean_squared_error(Y_test,test_predict))"
      ],
      "metadata": {
        "colab": {
          "base_uri": "https://localhost:8080/"
        },
        "id": "GxdL7dkiTOH_",
        "outputId": "48f78841-e384-4959-a124-577b9739bb73"
      },
      "execution_count": 22,
      "outputs": [
        {
          "output_type": "execute_result",
          "data": {
            "text/plain": [
              "154.43734919609545"
            ]
          },
          "metadata": {},
          "execution_count": 22
        }
      ]
    },
    {
      "cell_type": "code",
      "source": [
        "#plotting the growth\n",
        "\n",
        "#shifting train for plotting\n",
        "import numpy\n",
        "lookback=100\n",
        "trainPredictPlot=numpy.empty_like(df1)\n",
        "trainPredictPlot[:,:]=np.nan\n",
        "trainPredictPlot[lookback:len(train_predict)+lookback,:]=train_predict\n",
        "\n",
        "#shfting test for plotting\n",
        "testPredictPlot=numpy.empty_like(df1)\n",
        "testPredictPlot[:,:]=numpy.nan\n",
        "testPredictPlot[len(train_predict)+(lookback*2)+1:len(df1)-1,:]=test_predict\n",
        "\n",
        "plt.plot(scaler.inverse_transform(df1),label='Stock Data')\n",
        "plt.plot(trainPredictPlot,label='Train predict data')\n",
        "plt.plot(testPredictPlot,label='Test predict data')\n",
        "plt.legend()\n",
        "plt.show()"
      ],
      "metadata": {
        "colab": {
          "base_uri": "https://localhost:8080/",
          "height": 265
        },
        "id": "8hE3SVz9noNu",
        "outputId": "2e2dff4f-2ea2-4e0f-ffed-7744c8dc3b64"
      },
      "execution_count": 25,
      "outputs": [
        {
          "output_type": "display_data",
          "data": {
            "text/plain": [
              "<Figure size 432x288 with 1 Axes>"
            ],
            "image/png": "[encoded data removed]"
          },
          "metadata": {
            "needs_background": "light"
          }
        }
      ]
    },
    {
      "cell_type": "code",
      "source": [
        "len(test_data)"
      ],
      "metadata": {
        "colab": {
          "base_uri": "https://localhost:8080/"
        },
        "id": "0LEat8OoZ78Y",
        "outputId": "4a3a150d-12e9-4895-9f2c-f8810bfe43f6"
      },
      "execution_count": 26,
      "outputs": [
        {
          "output_type": "execute_result",
          "data": {
            "text/plain": [
              "440"
            ]
          },
          "metadata": {},
          "execution_count": 26
        }
      ]
    },
    {
      "cell_type": "code",
      "source": [
        "x_input=test_data[340:].reshape(1,-1)\n",
        "x_input.shape"
      ],
      "metadata": {
        "colab": {
          "base_uri": "https://localhost:8080/"
        },
        "id": "RLlmog3tp2mQ",
        "outputId": "a4c31794-4042-4714-9f5a-e406f24d83c4"
      },
      "execution_count": 27,
      "outputs": [
        {
          "output_type": "execute_result",
          "data": {
            "text/plain": [
              "(1, 100)"
            ]
          },
          "metadata": {},
          "execution_count": 27
        }
      ]
    },
    {
      "cell_type": "code",
      "source": [
        "temp_input=list(x_input)\n",
        "temp_input=temp_input[0].tolist()\n",
        "temp_input"
      ],
      "metadata": {
        "colab": {
          "base_uri": "https://localhost:8080/"
        },
        "id": "SgTaShyPqA3b",
        "outputId": "980c3325-1ffb-4278-e6bc-78223202f591"
      },
      "execution_count": 29,
      "outputs": [
        {
          "output_type": "execute_result",
          "data": {
            "text/plain": [
              "[0.15539135879774574,\n",
              " 0.15143393863494048,\n",
              " 0.14396994364433308,\n",
              " 0.13332498434564805,\n",
              " 0.14001252348152782,\n",
              " 0.14529743268628675,\n",
              " 0.14597370068879145,\n",
              " 0.14116468378209135,\n",
              " 0.14958046336881647,\n",
              " 0.1487539135879774,\n",
              " 0.14108954289292414,\n",
              " 0.13139636819035688,\n",
              " 0.1267376330619912,\n",
              " 0.1405385097056981,\n",
              " 0.12944270507201,\n",
              " 0.11994990607388845,\n",
              " 0.10965560425798371,\n",
              " 0.12085159674389478,\n",
              " 0.13212273011897302,\n",
              " 0.13470256731371316,\n",
              " 0.14311834690043823,\n",
              " 0.14662492172824038,\n",
              " 0.1552410770194113,\n",
              " 0.1587226048841578,\n",
              " 0.16839073262366933,\n",
              " 0.17001878522229175,\n",
              " 0.17222291797119593,\n",
              " 0.18063869755792106,\n",
              " 0.1776581089542893,\n",
              " 0.16974326862867878,\n",
              " 0.16899185973700687,\n",
              " 0.1793362554790231,\n",
              " 0.17087038196618654,\n",
              " 0.16278021289918598,\n",
              " 0.1635566687539135,\n",
              " 0.158422041327489,\n",
              " 0.14755165936130238,\n",
              " 0.1523356293049467,\n",
              " 0.15919849718221663,\n",
              " 0.14639949906073885,\n",
              " 0.1458484658735128,\n",
              " 0.15168440826549778,\n",
              " 0.15125860989355033,\n",
              " 0.14922980588603624,\n",
              " 0.13763306199123349,\n",
              " 0.140363180964308,\n",
              " 0.1251346274264245,\n",
              " 0.12455854727614268,\n",
              " 0.14226675015654344,\n",
              " 0.12726361928616153,\n",
              " 0.12804007514088916,\n",
              " 0.13184721352536,\n",
              " 0.14822792736380713,\n",
              " 0.12505948653725735,\n",
              " 0.12633688165309953,\n",
              " 0.11326236693800873,\n",
              " 0.11939887288666245,\n",
              " 0.09933625547902314,\n",
              " 0.08946775203506574,\n",
              " 0.10086412022542268,\n",
              " 0.09693174702567309,\n",
              " 0.10619912335629306,\n",
              " 0.08510958046336875,\n",
              " 0.0764182842830306,\n",
              " 0.07701941139636814,\n",
              " 0.09084533500313086,\n",
              " 0.08395742016280527,\n",
              " 0.0843581715716969,\n",
              " 0.09252348152786471,\n",
              " 0.10720100187852216,\n",
              " 0.10519724483406384,\n",
              " 0.10487163431433938,\n",
              " 0.11113337507827176,\n",
              " 0.09653099561678141,\n",
              " 0.09843456480901686,\n",
              " 0.10487163431433938,\n",
              " 0.10299311208515965,\n",
              " 0.0896681277395115,\n",
              " 0.07586725109580456,\n",
              " 0.0627175954915466,\n",
              " 0.06492172824045078,\n",
              " 0.07160926737633061,\n",
              " 0.05815904821540385,\n",
              " 0.061916092673763246,\n",
              " 0.0727113337507827,\n",
              " 0.07140889167188474,\n",
              " 0.07872260488415778,\n",
              " 0.08721352536005006,\n",
              " 0.08721352536005006,\n",
              " 0.07664370695053219,\n",
              " 0.08112711333750777,\n",
              " 0.07484032561051968,\n",
              " 0.08037570444583592,\n",
              " 0.08696305572949276,\n",
              " 0.09036944270507191,\n",
              " 0.09896055103318718,\n",
              " 0.10068879148403248,\n",
              " 0.09525360050093923,\n",
              " 0.0977332498434565,\n",
              " 0.09680651221039449]"
            ]
          },
          "metadata": {},
          "execution_count": 29
        }
      ]
    },
    {
      "cell_type": "code",
      "source": [
        "from numpy import array\n",
        "\n",
        "lst_output=[]\n",
        "n_steps=100\n",
        "i=0\n",
        "while(i<30):\n",
        "    \n",
        "    if(len(temp_input)>100):\n",
        "        #print(temp_input)\n",
        "        x_input=np.array(temp_input[1:])\n",
        "        print(\"{} day input {}\".format(i,x_input))\n",
        "        x_input=x_input.reshape(1,-1)\n",
        "        x_input = x_input.reshape((1, n_steps, 1))\n",
        "        #print(x_input)\n",
        "        yhat = model.predict(x_input, verbose=0)\n",
        "        print(\"{} day output {}\".format(i,yhat))\n",
        "        temp_input.extend(yhat[0].tolist())\n",
        "        temp_input=temp_input[1:]\n",
        "        #print(temp_input)\n",
        "        lst_output.extend(yhat.tolist())\n",
        "        i=i+1\n",
        "    else:\n",
        "        x_input = x_input.reshape((1, n_steps,1))\n",
        "        yhat = model.predict(x_input, verbose=0)\n",
        "        print(yhat[0])\n",
        "        temp_input.extend(yhat[0].tolist())\n",
        "        print(len(temp_input))\n",
        "        lst_output.extend(yhat.tolist())\n",
        "        i=i+1\n",
        "    \n",
        "\n",
        "print(lst_output)"
      ],
      "metadata": {
        "colab": {
          "base_uri": "https://localhost:8080/"
        },
        "id": "-1uPaNrgqN8w",
        "outputId": "fe5a1d8b-9d37-41cc-f5ac-8cff12f7c562"
      },
      "execution_count": 30,
      "outputs": [
        {
          "output_type": "stream",
          "name": "stdout",
          "text": [
            "[0.10413055]\n",
            "101\n",
            "1 day input [0.15143394 0.14396994 0.13332498 0.14001252 0.14529743 0.1459737\n",
            " 0.14116468 0.14958046 0.14875391 0.14108954 0.13139637 0.12673763\n",
            " 0.14053851 0.12944271 0.11994991 0.1096556  0.1208516  0.13212273\n",
            " 0.13470257 0.14311835 0.14662492 0.15524108 0.1587226  0.16839073\n",
            " 0.17001879 0.17222292 0.1806387  0.17765811 0.16974327 0.16899186\n",
            " 0.17933626 0.17087038 0.16278021 0.16355667 0.15842204 0.14755166\n",
            " 0.15233563 0.1591985  0.1463995  0.14584847 0.15168441 0.15125861\n",
            " 0.14922981 0.13763306 0.14036318 0.12513463 0.12455855 0.14226675\n",
            " 0.12726362 0.12804008 0.13184721 0.14822793 0.12505949 0.12633688\n",
            " 0.11326237 0.11939887 0.09933626 0.08946775 0.10086412 0.09693175\n",
            " 0.10619912 0.08510958 0.07641828 0.07701941 0.09084534 0.08395742\n",
            " 0.08435817 0.09252348 0.107201   0.10519724 0.10487163 0.11113338\n",
            " 0.096531   0.09843456 0.10487163 0.10299311 0.08966813 0.07586725\n",
            " 0.0627176  0.06492173 0.07160927 0.05815905 0.06191609 0.07271133\n",
            " 0.07140889 0.0787226  0.08721353 0.08721353 0.07664371 0.08112711\n",
            " 0.07484033 0.0803757  0.08696306 0.09036944 0.09896055 0.10068879\n",
            " 0.0952536  0.09773325 0.09680651 0.10413055]\n",
            "1 day output [[0.10618819]]\n",
            "2 day input [0.14396994 0.13332498 0.14001252 0.14529743 0.1459737  0.14116468\n",
            " 0.14958046 0.14875391 0.14108954 0.13139637 0.12673763 0.14053851\n",
            " 0.12944271 0.11994991 0.1096556  0.1208516  0.13212273 0.13470257\n",
            " 0.14311835 0.14662492 0.15524108 0.1587226  0.16839073 0.17001879\n",
            " 0.17222292 0.1806387  0.17765811 0.16974327 0.16899186 0.17933626\n",
            " 0.17087038 0.16278021 0.16355667 0.15842204 0.14755166 0.15233563\n",
            " 0.1591985  0.1463995  0.14584847 0.15168441 0.15125861 0.14922981\n",
            " 0.13763306 0.14036318 0.12513463 0.12455855 0.14226675 0.12726362\n",
            " 0.12804008 0.13184721 0.14822793 0.12505949 0.12633688 0.11326237\n",
            " 0.11939887 0.09933626 0.08946775 0.10086412 0.09693175 0.10619912\n",
            " 0.08510958 0.07641828 0.07701941 0.09084534 0.08395742 0.08435817\n",
            " 0.09252348 0.107201   0.10519724 0.10487163 0.11113338 0.096531\n",
            " 0.09843456 0.10487163 0.10299311 0.08966813 0.07586725 0.0627176\n",
            " 0.06492173 0.07160927 0.05815905 0.06191609 0.07271133 0.07140889\n",
            " 0.0787226  0.08721353 0.08721353 0.07664371 0.08112711 0.07484033\n",
            " 0.0803757  0.08696306 0.09036944 0.09896055 0.10068879 0.0952536\n",
            " 0.09773325 0.09680651 0.10413055 0.10618819]\n",
            "2 day output [[0.10824777]]\n",
            "3 day input [0.13332498 0.14001252 0.14529743 0.1459737  0.14116468 0.14958046\n",
            " 0.14875391 0.14108954 0.13139637 0.12673763 0.14053851 0.12944271\n",
            " 0.11994991 0.1096556  0.1208516  0.13212273 0.13470257 0.14311835\n",
            " 0.14662492 0.15524108 0.1587226  0.16839073 0.17001879 0.17222292\n",
            " 0.1806387  0.17765811 0.16974327 0.16899186 0.17933626 0.17087038\n",
            " 0.16278021 0.16355667 0.15842204 0.14755166 0.15233563 0.1591985\n",
            " 0.1463995  0.14584847 0.15168441 0.15125861 0.14922981 0.13763306\n",
            " 0.14036318 0.12513463 0.12455855 0.14226675 0.12726362 0.12804008\n",
            " 0.13184721 0.14822793 0.12505949 0.12633688 0.11326237 0.11939887\n",
            " 0.09933626 0.08946775 0.10086412 0.09693175 0.10619912 0.08510958\n",
            " 0.07641828 0.07701941 0.09084534 0.08395742 0.08435817 0.09252348\n",
            " 0.107201   0.10519724 0.10487163 0.11113338 0.096531   0.09843456\n",
            " 0.10487163 0.10299311 0.08966813 0.07586725 0.0627176  0.06492173\n",
            " 0.07160927 0.05815905 0.06191609 0.07271133 0.07140889 0.0787226\n",
            " 0.08721353 0.08721353 0.07664371 0.08112711 0.07484033 0.0803757\n",
            " 0.08696306 0.09036944 0.09896055 0.10068879 0.0952536  0.09773325\n",
            " 0.09680651 0.10413055 0.10618819 0.10824777]\n",
            "3 day output [[0.11031665]]\n",
            "4 day input [0.14001252 0.14529743 0.1459737  0.14116468 0.14958046 0.14875391\n",
            " 0.14108954 0.13139637 0.12673763 0.14053851 0.12944271 0.11994991\n",
            " 0.1096556  0.1208516  0.13212273 0.13470257 0.14311835 0.14662492\n",
            " 0.15524108 0.1587226  0.16839073 0.17001879 0.17222292 0.1806387\n",
            " 0.17765811 0.16974327 0.16899186 0.17933626 0.17087038 0.16278021\n",
            " 0.16355667 0.15842204 0.14755166 0.15233563 0.1591985  0.1463995\n",
            " 0.14584847 0.15168441 0.15125861 0.14922981 0.13763306 0.14036318\n",
            " 0.12513463 0.12455855 0.14226675 0.12726362 0.12804008 0.13184721\n",
            " 0.14822793 0.12505949 0.12633688 0.11326237 0.11939887 0.09933626\n",
            " 0.08946775 0.10086412 0.09693175 0.10619912 0.08510958 0.07641828\n",
            " 0.07701941 0.09084534 0.08395742 0.08435817 0.09252348 0.107201\n",
            " 0.10519724 0.10487163 0.11113338 0.096531   0.09843456 0.10487163\n",
            " 0.10299311 0.08966813 0.07586725 0.0627176  0.06492173 0.07160927\n",
            " 0.05815905 0.06191609 0.07271133 0.07140889 0.0787226  0.08721353\n",
            " 0.08721353 0.07664371 0.08112711 0.07484033 0.0803757  0.08696306\n",
            " 0.09036944 0.09896055 0.10068879 0.0952536  0.09773325 0.09680651\n",
            " 0.10413055 0.10618819 0.10824777 0.11031665]\n",
            "4 day output [[0.11238714]]\n",
            "5 day input [0.14529743 0.1459737  0.14116468 0.14958046 0.14875391 0.14108954\n",
            " 0.13139637 0.12673763 0.14053851 0.12944271 0.11994991 0.1096556\n",
            " 0.1208516  0.13212273 0.13470257 0.14311835 0.14662492 0.15524108\n",
            " 0.1587226  0.16839073 0.17001879 0.17222292 0.1806387  0.17765811\n",
            " 0.16974327 0.16899186 0.17933626 0.17087038 0.16278021 0.16355667\n",
            " 0.15842204 0.14755166 0.15233563 0.1591985  0.1463995  0.14584847\n",
            " 0.15168441 0.15125861 0.14922981 0.13763306 0.14036318 0.12513463\n",
            " 0.12455855 0.14226675 0.12726362 0.12804008 0.13184721 0.14822793\n",
            " 0.12505949 0.12633688 0.11326237 0.11939887 0.09933626 0.08946775\n",
            " 0.10086412 0.09693175 0.10619912 0.08510958 0.07641828 0.07701941\n",
            " 0.09084534 0.08395742 0.08435817 0.09252348 0.107201   0.10519724\n",
            " 0.10487163 0.11113338 0.096531   0.09843456 0.10487163 0.10299311\n",
            " 0.08966813 0.07586725 0.0627176  0.06492173 0.07160927 0.05815905\n",
            " 0.06191609 0.07271133 0.07140889 0.0787226  0.08721353 0.08721353\n",
            " 0.07664371 0.08112711 0.07484033 0.0803757  0.08696306 0.09036944\n",
            " 0.09896055 0.10068879 0.0952536  0.09773325 0.09680651 0.10413055\n",
            " 0.10618819 0.10824777 0.11031665 0.11238714]\n",
            "5 day output [[0.11444764]]\n",
            "6 day input [0.1459737  0.14116468 0.14958046 0.14875391 0.14108954 0.13139637\n",
            " 0.12673763 0.14053851 0.12944271 0.11994991 0.1096556  0.1208516\n",
            " 0.13212273 0.13470257 0.14311835 0.14662492 0.15524108 0.1587226\n",
            " 0.16839073 0.17001879 0.17222292 0.1806387  0.17765811 0.16974327\n",
            " 0.16899186 0.17933626 0.17087038 0.16278021 0.16355667 0.15842204\n",
            " 0.14755166 0.15233563 0.1591985  0.1463995  0.14584847 0.15168441\n",
            " 0.15125861 0.14922981 0.13763306 0.14036318 0.12513463 0.12455855\n",
            " 0.14226675 0.12726362 0.12804008 0.13184721 0.14822793 0.12505949\n",
            " 0.12633688 0.11326237 0.11939887 0.09933626 0.08946775 0.10086412\n",
            " 0.09693175 0.10619912 0.08510958 0.07641828 0.07701941 0.09084534\n",
            " 0.08395742 0.08435817 0.09252348 0.107201   0.10519724 0.10487163\n",
            " 0.11113338 0.096531   0.09843456 0.10487163 0.10299311 0.08966813\n",
            " 0.07586725 0.0627176  0.06492173 0.07160927 0.05815905 0.06191609\n",
            " 0.07271133 0.07140889 0.0787226  0.08721353 0.08721353 0.07664371\n",
            " 0.08112711 0.07484033 0.0803757  0.08696306 0.09036944 0.09896055\n",
            " 0.10068879 0.0952536  0.09773325 0.09680651 0.10413055 0.10618819\n",
            " 0.10824777 0.11031665 0.11238714 0.11444764]\n",
            "6 day output [[0.11648759]]\n",
            "7 day input [0.14116468 0.14958046 0.14875391 0.14108954 0.13139637 0.12673763\n",
            " 0.14053851 0.12944271 0.11994991 0.1096556  0.1208516  0.13212273\n",
            " 0.13470257 0.14311835 0.14662492 0.15524108 0.1587226  0.16839073\n",
            " 0.17001879 0.17222292 0.1806387  0.17765811 0.16974327 0.16899186\n",
            " 0.17933626 0.17087038 0.16278021 0.16355667 0.15842204 0.14755166\n",
            " 0.15233563 0.1591985  0.1463995  0.14584847 0.15168441 0.15125861\n",
            " 0.14922981 0.13763306 0.14036318 0.12513463 0.12455855 0.14226675\n",
            " 0.12726362 0.12804008 0.13184721 0.14822793 0.12505949 0.12633688\n",
            " 0.11326237 0.11939887 0.09933626 0.08946775 0.10086412 0.09693175\n",
            " 0.10619912 0.08510958 0.07641828 0.07701941 0.09084534 0.08395742\n",
            " 0.08435817 0.09252348 0.107201   0.10519724 0.10487163 0.11113338\n",
            " 0.096531   0.09843456 0.10487163 0.10299311 0.08966813 0.07586725\n",
            " 0.0627176  0.06492173 0.07160927 0.05815905 0.06191609 0.07271133\n",
            " 0.07140889 0.0787226  0.08721353 0.08721353 0.07664371 0.08112711\n",
            " 0.07484033 0.0803757  0.08696306 0.09036944 0.09896055 0.10068879\n",
            " 0.0952536  0.09773325 0.09680651 0.10413055 0.10618819 0.10824777\n",
            " 0.11031665 0.11238714 0.11444764 0.11648759]\n",
            "7 day output [[0.11849907]]\n",
            "8 day input [0.14958046 0.14875391 0.14108954 0.13139637 0.12673763 0.14053851\n",
            " 0.12944271 0.11994991 0.1096556  0.1208516  0.13212273 0.13470257\n",
            " 0.14311835 0.14662492 0.15524108 0.1587226  0.16839073 0.17001879\n",
            " 0.17222292 0.1806387  0.17765811 0.16974327 0.16899186 0.17933626\n",
            " 0.17087038 0.16278021 0.16355667 0.15842204 0.14755166 0.15233563\n",
            " 0.1591985  0.1463995  0.14584847 0.15168441 0.15125861 0.14922981\n",
            " 0.13763306 0.14036318 0.12513463 0.12455855 0.14226675 0.12726362\n",
            " 0.12804008 0.13184721 0.14822793 0.12505949 0.12633688 0.11326237\n",
            " 0.11939887 0.09933626 0.08946775 0.10086412 0.09693175 0.10619912\n",
            " 0.08510958 0.07641828 0.07701941 0.09084534 0.08395742 0.08435817\n",
            " 0.09252348 0.107201   0.10519724 0.10487163 0.11113338 0.096531\n",
            " 0.09843456 0.10487163 0.10299311 0.08966813 0.07586725 0.0627176\n",
            " 0.06492173 0.07160927 0.05815905 0.06191609 0.07271133 0.07140889\n",
            " 0.0787226  0.08721353 0.08721353 0.07664371 0.08112711 0.07484033\n",
            " 0.0803757  0.08696306 0.09036944 0.09896055 0.10068879 0.0952536\n",
            " 0.09773325 0.09680651 0.10413055 0.10618819 0.10824777 0.11031665\n",
            " 0.11238714 0.11444764 0.11648759 0.11849907]\n",
            "8 day output [[0.12047669]]\n",
            "9 day input [0.14875391 0.14108954 0.13139637 0.12673763 0.14053851 0.12944271\n",
            " 0.11994991 0.1096556  0.1208516  0.13212273 0.13470257 0.14311835\n",
            " 0.14662492 0.15524108 0.1587226  0.16839073 0.17001879 0.17222292\n",
            " 0.1806387  0.17765811 0.16974327 0.16899186 0.17933626 0.17087038\n",
            " 0.16278021 0.16355667 0.15842204 0.14755166 0.15233563 0.1591985\n",
            " 0.1463995  0.14584847 0.15168441 0.15125861 0.14922981 0.13763306\n",
            " 0.14036318 0.12513463 0.12455855 0.14226675 0.12726362 0.12804008\n",
            " 0.13184721 0.14822793 0.12505949 0.12633688 0.11326237 0.11939887\n",
            " 0.09933626 0.08946775 0.10086412 0.09693175 0.10619912 0.08510958\n",
            " 0.07641828 0.07701941 0.09084534 0.08395742 0.08435817 0.09252348\n",
            " 0.107201   0.10519724 0.10487163 0.11113338 0.096531   0.09843456\n",
            " 0.10487163 0.10299311 0.08966813 0.07586725 0.0627176  0.06492173\n",
            " 0.07160927 0.05815905 0.06191609 0.07271133 0.07140889 0.0787226\n",
            " 0.08721353 0.08721353 0.07664371 0.08112711 0.07484033 0.0803757\n",
            " 0.08696306 0.09036944 0.09896055 0.10068879 0.0952536  0.09773325\n",
            " 0.09680651 0.10413055 0.10618819 0.10824777 0.11031665 0.11238714\n",
            " 0.11444764 0.11648759 0.11849907 0.12047669]\n",
            "9 day output [[0.1224173]]\n",
            "10 day input [0.14108954 0.13139637 0.12673763 0.14053851 0.12944271 0.11994991\n",
            " 0.1096556  0.1208516  0.13212273 0.13470257 0.14311835 0.14662492\n",
            " 0.15524108 0.1587226  0.16839073 0.17001879 0.17222292 0.1806387\n",
            " 0.17765811 0.16974327 0.16899186 0.17933626 0.17087038 0.16278021\n",
            " 0.16355667 0.15842204 0.14755166 0.15233563 0.1591985  0.1463995\n",
            " 0.14584847 0.15168441 0.15125861 0.14922981 0.13763306 0.14036318\n",
            " 0.12513463 0.12455855 0.14226675 0.12726362 0.12804008 0.13184721\n",
            " 0.14822793 0.12505949 0.12633688 0.11326237 0.11939887 0.09933626\n",
            " 0.08946775 0.10086412 0.09693175 0.10619912 0.08510958 0.07641828\n",
            " 0.07701941 0.09084534 0.08395742 0.08435817 0.09252348 0.107201\n",
            " 0.10519724 0.10487163 0.11113338 0.096531   0.09843456 0.10487163\n",
            " 0.10299311 0.08966813 0.07586725 0.0627176  0.06492173 0.07160927\n",
            " 0.05815905 0.06191609 0.07271133 0.07140889 0.0787226  0.08721353\n",
            " 0.08721353 0.07664371 0.08112711 0.07484033 0.0803757  0.08696306\n",
            " 0.09036944 0.09896055 0.10068879 0.0952536  0.09773325 0.09680651\n",
            " 0.10413055 0.10618819 0.10824777 0.11031665 0.11238714 0.11444764\n",
            " 0.11648759 0.11849907 0.12047669 0.1224173 ]\n",
            "10 day output [[0.1243193]]\n",
            "11 day input [0.13139637 0.12673763 0.14053851 0.12944271 0.11994991 0.1096556\n",
            " 0.1208516  0.13212273 0.13470257 0.14311835 0.14662492 0.15524108\n",
            " 0.1587226  0.16839073 0.17001879 0.17222292 0.1806387  0.17765811\n",
            " 0.16974327 0.16899186 0.17933626 0.17087038 0.16278021 0.16355667\n",
            " 0.15842204 0.14755166 0.15233563 0.1591985  0.1463995  0.14584847\n",
            " 0.15168441 0.15125861 0.14922981 0.13763306 0.14036318 0.12513463\n",
            " 0.12455855 0.14226675 0.12726362 0.12804008 0.13184721 0.14822793\n",
            " 0.12505949 0.12633688 0.11326237 0.11939887 0.09933626 0.08946775\n",
            " 0.10086412 0.09693175 0.10619912 0.08510958 0.07641828 0.07701941\n",
            " 0.09084534 0.08395742 0.08435817 0.09252348 0.107201   0.10519724\n",
            " 0.10487163 0.11113338 0.096531   0.09843456 0.10487163 0.10299311\n",
            " 0.08966813 0.07586725 0.0627176  0.06492173 0.07160927 0.05815905\n",
            " 0.06191609 0.07271133 0.07140889 0.0787226  0.08721353 0.08721353\n",
            " 0.07664371 0.08112711 0.07484033 0.0803757  0.08696306 0.09036944\n",
            " 0.09896055 0.10068879 0.0952536  0.09773325 0.09680651 0.10413055\n",
            " 0.10618819 0.10824777 0.11031665 0.11238714 0.11444764 0.11648759\n",
            " 0.11849907 0.12047669 0.1224173  0.1243193 ]\n",
            "11 day output [[0.12618217]]\n",
            "12 day input [0.12673763 0.14053851 0.12944271 0.11994991 0.1096556  0.1208516\n",
            " 0.13212273 0.13470257 0.14311835 0.14662492 0.15524108 0.1587226\n",
            " 0.16839073 0.17001879 0.17222292 0.1806387  0.17765811 0.16974327\n",
            " 0.16899186 0.17933626 0.17087038 0.16278021 0.16355667 0.15842204\n",
            " 0.14755166 0.15233563 0.1591985  0.1463995  0.14584847 0.15168441\n",
            " 0.15125861 0.14922981 0.13763306 0.14036318 0.12513463 0.12455855\n",
            " 0.14226675 0.12726362 0.12804008 0.13184721 0.14822793 0.12505949\n",
            " 0.12633688 0.11326237 0.11939887 0.09933626 0.08946775 0.10086412\n",
            " 0.09693175 0.10619912 0.08510958 0.07641828 0.07701941 0.09084534\n",
            " 0.08395742 0.08435817 0.09252348 0.107201   0.10519724 0.10487163\n",
            " 0.11113338 0.096531   0.09843456 0.10487163 0.10299311 0.08966813\n",
            " 0.07586725 0.0627176  0.06492173 0.07160927 0.05815905 0.06191609\n",
            " 0.07271133 0.07140889 0.0787226  0.08721353 0.08721353 0.07664371\n",
            " 0.08112711 0.07484033 0.0803757  0.08696306 0.09036944 0.09896055\n",
            " 0.10068879 0.0952536  0.09773325 0.09680651 0.10413055 0.10618819\n",
            " 0.10824777 0.11031665 0.11238714 0.11444764 0.11648759 0.11849907\n",
            " 0.12047669 0.1224173  0.1243193  0.12618217]\n",
            "12 day output [[0.12800598]]\n",
            "13 day input [0.14053851 0.12944271 0.11994991 0.1096556  0.1208516  0.13212273\n",
            " 0.13470257 0.14311835 0.14662492 0.15524108 0.1587226  0.16839073\n",
            " 0.17001879 0.17222292 0.1806387  0.17765811 0.16974327 0.16899186\n",
            " 0.17933626 0.17087038 0.16278021 0.16355667 0.15842204 0.14755166\n",
            " 0.15233563 0.1591985  0.1463995  0.14584847 0.15168441 0.15125861\n",
            " 0.14922981 0.13763306 0.14036318 0.12513463 0.12455855 0.14226675\n",
            " 0.12726362 0.12804008 0.13184721 0.14822793 0.12505949 0.12633688\n",
            " 0.11326237 0.11939887 0.09933626 0.08946775 0.10086412 0.09693175\n",
            " 0.10619912 0.08510958 0.07641828 0.07701941 0.09084534 0.08395742\n",
            " 0.08435817 0.09252348 0.107201   0.10519724 0.10487163 0.11113338\n",
            " 0.096531   0.09843456 0.10487163 0.10299311 0.08966813 0.07586725\n",
            " 0.0627176  0.06492173 0.07160927 0.05815905 0.06191609 0.07271133\n",
            " 0.07140889 0.0787226  0.08721353 0.08721353 0.07664371 0.08112711\n",
            " 0.07484033 0.0803757  0.08696306 0.09036944 0.09896055 0.10068879\n",
            " 0.0952536  0.09773325 0.09680651 0.10413055 0.10618819 0.10824777\n",
            " 0.11031665 0.11238714 0.11444764 0.11648759 0.11849907 0.12047669\n",
            " 0.1224173  0.1243193  0.12618217 0.12800598]\n",
            "13 day output [[0.12979129]]\n",
            "14 day input [0.12944271 0.11994991 0.1096556  0.1208516  0.13212273 0.13470257\n",
            " 0.14311835 0.14662492 0.15524108 0.1587226  0.16839073 0.17001879\n",
            " 0.17222292 0.1806387  0.17765811 0.16974327 0.16899186 0.17933626\n",
            " 0.17087038 0.16278021 0.16355667 0.15842204 0.14755166 0.15233563\n",
            " 0.1591985  0.1463995  0.14584847 0.15168441 0.15125861 0.14922981\n",
            " 0.13763306 0.14036318 0.12513463 0.12455855 0.14226675 0.12726362\n",
            " 0.12804008 0.13184721 0.14822793 0.12505949 0.12633688 0.11326237\n",
            " 0.11939887 0.09933626 0.08946775 0.10086412 0.09693175 0.10619912\n",
            " 0.08510958 0.07641828 0.07701941 0.09084534 0.08395742 0.08435817\n",
            " 0.09252348 0.107201   0.10519724 0.10487163 0.11113338 0.096531\n",
            " 0.09843456 0.10487163 0.10299311 0.08966813 0.07586725 0.0627176\n",
            " 0.06492173 0.07160927 0.05815905 0.06191609 0.07271133 0.07140889\n",
            " 0.0787226  0.08721353 0.08721353 0.07664371 0.08112711 0.07484033\n",
            " 0.0803757  0.08696306 0.09036944 0.09896055 0.10068879 0.0952536\n",
            " 0.09773325 0.09680651 0.10413055 0.10618819 0.10824777 0.11031665\n",
            " 0.11238714 0.11444764 0.11648759 0.11849907 0.12047669 0.1224173\n",
            " 0.1243193  0.12618217 0.12800598 0.12979129]\n",
            "14 day output [[0.13153882]]\n",
            "15 day input [0.11994991 0.1096556  0.1208516  0.13212273 0.13470257 0.14311835\n",
            " 0.14662492 0.15524108 0.1587226  0.16839073 0.17001879 0.17222292\n",
            " 0.1806387  0.17765811 0.16974327 0.16899186 0.17933626 0.17087038\n",
            " 0.16278021 0.16355667 0.15842204 0.14755166 0.15233563 0.1591985\n",
            " 0.1463995  0.14584847 0.15168441 0.15125861 0.14922981 0.13763306\n",
            " 0.14036318 0.12513463 0.12455855 0.14226675 0.12726362 0.12804008\n",
            " 0.13184721 0.14822793 0.12505949 0.12633688 0.11326237 0.11939887\n",
            " 0.09933626 0.08946775 0.10086412 0.09693175 0.10619912 0.08510958\n",
            " 0.07641828 0.07701941 0.09084534 0.08395742 0.08435817 0.09252348\n",
            " 0.107201   0.10519724 0.10487163 0.11113338 0.096531   0.09843456\n",
            " 0.10487163 0.10299311 0.08966813 0.07586725 0.0627176  0.06492173\n",
            " 0.07160927 0.05815905 0.06191609 0.07271133 0.07140889 0.0787226\n",
            " 0.08721353 0.08721353 0.07664371 0.08112711 0.07484033 0.0803757\n",
            " 0.08696306 0.09036944 0.09896055 0.10068879 0.0952536  0.09773325\n",
            " 0.09680651 0.10413055 0.10618819 0.10824777 0.11031665 0.11238714\n",
            " 0.11444764 0.11648759 0.11849907 0.12047669 0.1224173  0.1243193\n",
            " 0.12618217 0.12800598 0.12979129 0.13153882]\n",
            "15 day output [[0.13324936]]\n",
            "16 day input [0.1096556  0.1208516  0.13212273 0.13470257 0.14311835 0.14662492\n",
            " 0.15524108 0.1587226  0.16839073 0.17001879 0.17222292 0.1806387\n",
            " 0.17765811 0.16974327 0.16899186 0.17933626 0.17087038 0.16278021\n",
            " 0.16355667 0.15842204 0.14755166 0.15233563 0.1591985  0.1463995\n",
            " 0.14584847 0.15168441 0.15125861 0.14922981 0.13763306 0.14036318\n",
            " 0.12513463 0.12455855 0.14226675 0.12726362 0.12804008 0.13184721\n",
            " 0.14822793 0.12505949 0.12633688 0.11326237 0.11939887 0.09933626\n",
            " 0.08946775 0.10086412 0.09693175 0.10619912 0.08510958 0.07641828\n",
            " 0.07701941 0.09084534 0.08395742 0.08435817 0.09252348 0.107201\n",
            " 0.10519724 0.10487163 0.11113338 0.096531   0.09843456 0.10487163\n",
            " 0.10299311 0.08966813 0.07586725 0.0627176  0.06492173 0.07160927\n",
            " 0.05815905 0.06191609 0.07271133 0.07140889 0.0787226  0.08721353\n",
            " 0.08721353 0.07664371 0.08112711 0.07484033 0.0803757  0.08696306\n",
            " 0.09036944 0.09896055 0.10068879 0.0952536  0.09773325 0.09680651\n",
            " 0.10413055 0.10618819 0.10824777 0.11031665 0.11238714 0.11444764\n",
            " 0.11648759 0.11849907 0.12047669 0.1224173  0.1243193  0.12618217\n",
            " 0.12800598 0.12979129 0.13153882 0.13324936]\n",
            "16 day output [[0.13492376]]\n",
            "17 day input [0.1208516  0.13212273 0.13470257 0.14311835 0.14662492 0.15524108\n",
            " 0.1587226  0.16839073 0.17001879 0.17222292 0.1806387  0.17765811\n",
            " 0.16974327 0.16899186 0.17933626 0.17087038 0.16278021 0.16355667\n",
            " 0.15842204 0.14755166 0.15233563 0.1591985  0.1463995  0.14584847\n",
            " 0.15168441 0.15125861 0.14922981 0.13763306 0.14036318 0.12513463\n",
            " 0.12455855 0.14226675 0.12726362 0.12804008 0.13184721 0.14822793\n",
            " 0.12505949 0.12633688 0.11326237 0.11939887 0.09933626 0.08946775\n",
            " 0.10086412 0.09693175 0.10619912 0.08510958 0.07641828 0.07701941\n",
            " 0.09084534 0.08395742 0.08435817 0.09252348 0.107201   0.10519724\n",
            " 0.10487163 0.11113338 0.096531   0.09843456 0.10487163 0.10299311\n",
            " 0.08966813 0.07586725 0.0627176  0.06492173 0.07160927 0.05815905\n",
            " 0.06191609 0.07271133 0.07140889 0.0787226  0.08721353 0.08721353\n",
            " 0.07664371 0.08112711 0.07484033 0.0803757  0.08696306 0.09036944\n",
            " 0.09896055 0.10068879 0.0952536  0.09773325 0.09680651 0.10413055\n",
            " 0.10618819 0.10824777 0.11031665 0.11238714 0.11444764 0.11648759\n",
            " 0.11849907 0.12047669 0.1224173  0.1243193  0.12618217 0.12800598\n",
            " 0.12979129 0.13153882 0.13324936 0.13492376]\n",
            "17 day output [[0.13656276]]\n",
            "18 day input [0.13212273 0.13470257 0.14311835 0.14662492 0.15524108 0.1587226\n",
            " 0.16839073 0.17001879 0.17222292 0.1806387  0.17765811 0.16974327\n",
            " 0.16899186 0.17933626 0.17087038 0.16278021 0.16355667 0.15842204\n",
            " 0.14755166 0.15233563 0.1591985  0.1463995  0.14584847 0.15168441\n",
            " 0.15125861 0.14922981 0.13763306 0.14036318 0.12513463 0.12455855\n",
            " 0.14226675 0.12726362 0.12804008 0.13184721 0.14822793 0.12505949\n",
            " 0.12633688 0.11326237 0.11939887 0.09933626 0.08946775 0.10086412\n",
            " 0.09693175 0.10619912 0.08510958 0.07641828 0.07701941 0.09084534\n",
            " 0.08395742 0.08435817 0.09252348 0.107201   0.10519724 0.10487163\n",
            " 0.11113338 0.096531   0.09843456 0.10487163 0.10299311 0.08966813\n",
            " 0.07586725 0.0627176  0.06492173 0.07160927 0.05815905 0.06191609\n",
            " 0.07271133 0.07140889 0.0787226  0.08721353 0.08721353 0.07664371\n",
            " 0.08112711 0.07484033 0.0803757  0.08696306 0.09036944 0.09896055\n",
            " 0.10068879 0.0952536  0.09773325 0.09680651 0.10413055 0.10618819\n",
            " 0.10824777 0.11031665 0.11238714 0.11444764 0.11648759 0.11849907\n",
            " 0.12047669 0.1224173  0.1243193  0.12618217 0.12800598 0.12979129\n",
            " 0.13153882 0.13324936 0.13492376 0.13656276]\n",
            "18 day output [[0.13816728]]\n",
            "19 day input [0.13470257 0.14311835 0.14662492 0.15524108 0.1587226  0.16839073\n",
            " 0.17001879 0.17222292 0.1806387  0.17765811 0.16974327 0.16899186\n",
            " 0.17933626 0.17087038 0.16278021 0.16355667 0.15842204 0.14755166\n",
            " 0.15233563 0.1591985  0.1463995  0.14584847 0.15168441 0.15125861\n",
            " 0.14922981 0.13763306 0.14036318 0.12513463 0.12455855 0.14226675\n",
            " 0.12726362 0.12804008 0.13184721 0.14822793 0.12505949 0.12633688\n",
            " 0.11326237 0.11939887 0.09933626 0.08946775 0.10086412 0.09693175\n",
            " 0.10619912 0.08510958 0.07641828 0.07701941 0.09084534 0.08395742\n",
            " 0.08435817 0.09252348 0.107201   0.10519724 0.10487163 0.11113338\n",
            " 0.096531   0.09843456 0.10487163 0.10299311 0.08966813 0.07586725\n",
            " 0.0627176  0.06492173 0.07160927 0.05815905 0.06191609 0.07271133\n",
            " 0.07140889 0.0787226  0.08721353 0.08721353 0.07664371 0.08112711\n",
            " 0.07484033 0.0803757  0.08696306 0.09036944 0.09896055 0.10068879\n",
            " 0.0952536  0.09773325 0.09680651 0.10413055 0.10618819 0.10824777\n",
            " 0.11031665 0.11238714 0.11444764 0.11648759 0.11849907 0.12047669\n",
            " 0.1224173  0.1243193  0.12618217 0.12800598 0.12979129 0.13153882\n",
            " 0.13324936 0.13492376 0.13656276 0.13816728]\n",
            "19 day output [[0.13973802]]\n",
            "20 day input [0.14311835 0.14662492 0.15524108 0.1587226  0.16839073 0.17001879\n",
            " 0.17222292 0.1806387  0.17765811 0.16974327 0.16899186 0.17933626\n",
            " 0.17087038 0.16278021 0.16355667 0.15842204 0.14755166 0.15233563\n",
            " 0.1591985  0.1463995  0.14584847 0.15168441 0.15125861 0.14922981\n",
            " 0.13763306 0.14036318 0.12513463 0.12455855 0.14226675 0.12726362\n",
            " 0.12804008 0.13184721 0.14822793 0.12505949 0.12633688 0.11326237\n",
            " 0.11939887 0.09933626 0.08946775 0.10086412 0.09693175 0.10619912\n",
            " 0.08510958 0.07641828 0.07701941 0.09084534 0.08395742 0.08435817\n",
            " 0.09252348 0.107201   0.10519724 0.10487163 0.11113338 0.096531\n",
            " 0.09843456 0.10487163 0.10299311 0.08966813 0.07586725 0.0627176\n",
            " 0.06492173 0.07160927 0.05815905 0.06191609 0.07271133 0.07140889\n",
            " 0.0787226  0.08721353 0.08721353 0.07664371 0.08112711 0.07484033\n",
            " 0.0803757  0.08696306 0.09036944 0.09896055 0.10068879 0.0952536\n",
            " 0.09773325 0.09680651 0.10413055 0.10618819 0.10824777 0.11031665\n",
            " 0.11238714 0.11444764 0.11648759 0.11849907 0.12047669 0.1224173\n",
            " 0.1243193  0.12618217 0.12800598 0.12979129 0.13153882 0.13324936\n",
            " 0.13492376 0.13656276 0.13816728 0.13973802]\n",
            "20 day output [[0.14127572]]\n",
            "21 day input [0.14662492 0.15524108 0.1587226  0.16839073 0.17001879 0.17222292\n",
            " 0.1806387  0.17765811 0.16974327 0.16899186 0.17933626 0.17087038\n",
            " 0.16278021 0.16355667 0.15842204 0.14755166 0.15233563 0.1591985\n",
            " 0.1463995  0.14584847 0.15168441 0.15125861 0.14922981 0.13763306\n",
            " 0.14036318 0.12513463 0.12455855 0.14226675 0.12726362 0.12804008\n",
            " 0.13184721 0.14822793 0.12505949 0.12633688 0.11326237 0.11939887\n",
            " 0.09933626 0.08946775 0.10086412 0.09693175 0.10619912 0.08510958\n",
            " 0.07641828 0.07701941 0.09084534 0.08395742 0.08435817 0.09252348\n",
            " 0.107201   0.10519724 0.10487163 0.11113338 0.096531   0.09843456\n",
            " 0.10487163 0.10299311 0.08966813 0.07586725 0.0627176  0.06492173\n",
            " 0.07160927 0.05815905 0.06191609 0.07271133 0.07140889 0.0787226\n",
            " 0.08721353 0.08721353 0.07664371 0.08112711 0.07484033 0.0803757\n",
            " 0.08696306 0.09036944 0.09896055 0.10068879 0.0952536  0.09773325\n",
            " 0.09680651 0.10413055 0.10618819 0.10824777 0.11031665 0.11238714\n",
            " 0.11444764 0.11648759 0.11849907 0.12047669 0.1224173  0.1243193\n",
            " 0.12618217 0.12800598 0.12979129 0.13153882 0.13324936 0.13492376\n",
            " 0.13656276 0.13816728 0.13973802 0.14127572]\n",
            "21 day output [[0.1427811]]\n",
            "22 day input [0.15524108 0.1587226  0.16839073 0.17001879 0.17222292 0.1806387\n",
            " 0.17765811 0.16974327 0.16899186 0.17933626 0.17087038 0.16278021\n",
            " 0.16355667 0.15842204 0.14755166 0.15233563 0.1591985  0.1463995\n",
            " 0.14584847 0.15168441 0.15125861 0.14922981 0.13763306 0.14036318\n",
            " 0.12513463 0.12455855 0.14226675 0.12726362 0.12804008 0.13184721\n",
            " 0.14822793 0.12505949 0.12633688 0.11326237 0.11939887 0.09933626\n",
            " 0.08946775 0.10086412 0.09693175 0.10619912 0.08510958 0.07641828\n",
            " 0.07701941 0.09084534 0.08395742 0.08435817 0.09252348 0.107201\n",
            " 0.10519724 0.10487163 0.11113338 0.096531   0.09843456 0.10487163\n",
            " 0.10299311 0.08966813 0.07586725 0.0627176  0.06492173 0.07160927\n",
            " 0.05815905 0.06191609 0.07271133 0.07140889 0.0787226  0.08721353\n",
            " 0.08721353 0.07664371 0.08112711 0.07484033 0.0803757  0.08696306\n",
            " 0.09036944 0.09896055 0.10068879 0.0952536  0.09773325 0.09680651\n",
            " 0.10413055 0.10618819 0.10824777 0.11031665 0.11238714 0.11444764\n",
            " 0.11648759 0.11849907 0.12047669 0.1224173  0.1243193  0.12618217\n",
            " 0.12800598 0.12979129 0.13153882 0.13324936 0.13492376 0.13656276\n",
            " 0.13816728 0.13973802 0.14127572 0.14278109]\n",
            "22 day output [[0.14425491]]\n",
            "23 day input [0.1587226  0.16839073 0.17001879 0.17222292 0.1806387  0.17765811\n",
            " 0.16974327 0.16899186 0.17933626 0.17087038 0.16278021 0.16355667\n",
            " 0.15842204 0.14755166 0.15233563 0.1591985  0.1463995  0.14584847\n",
            " 0.15168441 0.15125861 0.14922981 0.13763306 0.14036318 0.12513463\n",
            " 0.12455855 0.14226675 0.12726362 0.12804008 0.13184721 0.14822793\n",
            " 0.12505949 0.12633688 0.11326237 0.11939887 0.09933626 0.08946775\n",
            " 0.10086412 0.09693175 0.10619912 0.08510958 0.07641828 0.07701941\n",
            " 0.09084534 0.08395742 0.08435817 0.09252348 0.107201   0.10519724\n",
            " 0.10487163 0.11113338 0.096531   0.09843456 0.10487163 0.10299311\n",
            " 0.08966813 0.07586725 0.0627176  0.06492173 0.07160927 0.05815905\n",
            " 0.06191609 0.07271133 0.07140889 0.0787226  0.08721353 0.08721353\n",
            " 0.07664371 0.08112711 0.07484033 0.0803757  0.08696306 0.09036944\n",
            " 0.09896055 0.10068879 0.0952536  0.09773325 0.09680651 0.10413055\n",
            " 0.10618819 0.10824777 0.11031665 0.11238714 0.11444764 0.11648759\n",
            " 0.11849907 0.12047669 0.1224173  0.1243193  0.12618217 0.12800598\n",
            " 0.12979129 0.13153882 0.13324936 0.13492376 0.13656276 0.13816728\n",
            " 0.13973802 0.14127572 0.14278109 0.14425491]\n",
            "23 day output [[0.14569774]]\n",
            "24 day input [0.16839073 0.17001879 0.17222292 0.1806387  0.17765811 0.16974327\n",
            " 0.16899186 0.17933626 0.17087038 0.16278021 0.16355667 0.15842204\n",
            " 0.14755166 0.15233563 0.1591985  0.1463995  0.14584847 0.15168441\n",
            " 0.15125861 0.14922981 0.13763306 0.14036318 0.12513463 0.12455855\n",
            " 0.14226675 0.12726362 0.12804008 0.13184721 0.14822793 0.12505949\n",
            " 0.12633688 0.11326237 0.11939887 0.09933626 0.08946775 0.10086412\n",
            " 0.09693175 0.10619912 0.08510958 0.07641828 0.07701941 0.09084534\n",
            " 0.08395742 0.08435817 0.09252348 0.107201   0.10519724 0.10487163\n",
            " 0.11113338 0.096531   0.09843456 0.10487163 0.10299311 0.08966813\n",
            " 0.07586725 0.0627176  0.06492173 0.07160927 0.05815905 0.06191609\n",
            " 0.07271133 0.07140889 0.0787226  0.08721353 0.08721353 0.07664371\n",
            " 0.08112711 0.07484033 0.0803757  0.08696306 0.09036944 0.09896055\n",
            " 0.10068879 0.0952536  0.09773325 0.09680651 0.10413055 0.10618819\n",
            " 0.10824777 0.11031665 0.11238714 0.11444764 0.11648759 0.11849907\n",
            " 0.12047669 0.1224173  0.1243193  0.12618217 0.12800598 0.12979129\n",
            " 0.13153882 0.13324936 0.13492376 0.13656276 0.13816728 0.13973802\n",
            " 0.14127572 0.14278109 0.14425491 0.14569774]\n",
            "24 day output [[0.14711034]]\n",
            "25 day input [0.17001879 0.17222292 0.1806387  0.17765811 0.16974327 0.16899186\n",
            " 0.17933626 0.17087038 0.16278021 0.16355667 0.15842204 0.14755166\n",
            " 0.15233563 0.1591985  0.1463995  0.14584847 0.15168441 0.15125861\n",
            " 0.14922981 0.13763306 0.14036318 0.12513463 0.12455855 0.14226675\n",
            " 0.12726362 0.12804008 0.13184721 0.14822793 0.12505949 0.12633688\n",
            " 0.11326237 0.11939887 0.09933626 0.08946775 0.10086412 0.09693175\n",
            " 0.10619912 0.08510958 0.07641828 0.07701941 0.09084534 0.08395742\n",
            " 0.08435817 0.09252348 0.107201   0.10519724 0.10487163 0.11113338\n",
            " 0.096531   0.09843456 0.10487163 0.10299311 0.08966813 0.07586725\n",
            " 0.0627176  0.06492173 0.07160927 0.05815905 0.06191609 0.07271133\n",
            " 0.07140889 0.0787226  0.08721353 0.08721353 0.07664371 0.08112711\n",
            " 0.07484033 0.0803757  0.08696306 0.09036944 0.09896055 0.10068879\n",
            " 0.0952536  0.09773325 0.09680651 0.10413055 0.10618819 0.10824777\n",
            " 0.11031665 0.11238714 0.11444764 0.11648759 0.11849907 0.12047669\n",
            " 0.1224173  0.1243193  0.12618217 0.12800598 0.12979129 0.13153882\n",
            " 0.13324936 0.13492376 0.13656276 0.13816728 0.13973802 0.14127572\n",
            " 0.14278109 0.14425491 0.14569774 0.14711034]\n",
            "25 day output [[0.14849336]]\n",
            "26 day input [0.17222292 0.1806387  0.17765811 0.16974327 0.16899186 0.17933626\n",
            " 0.17087038 0.16278021 0.16355667 0.15842204 0.14755166 0.15233563\n",
            " 0.1591985  0.1463995  0.14584847 0.15168441 0.15125861 0.14922981\n",
            " 0.13763306 0.14036318 0.12513463 0.12455855 0.14226675 0.12726362\n",
            " 0.12804008 0.13184721 0.14822793 0.12505949 0.12633688 0.11326237\n",
            " 0.11939887 0.09933626 0.08946775 0.10086412 0.09693175 0.10619912\n",
            " 0.08510958 0.07641828 0.07701941 0.09084534 0.08395742 0.08435817\n",
            " 0.09252348 0.107201   0.10519724 0.10487163 0.11113338 0.096531\n",
            " 0.09843456 0.10487163 0.10299311 0.08966813 0.07586725 0.0627176\n",
            " 0.06492173 0.07160927 0.05815905 0.06191609 0.07271133 0.07140889\n",
            " 0.0787226  0.08721353 0.08721353 0.07664371 0.08112711 0.07484033\n",
            " 0.0803757  0.08696306 0.09036944 0.09896055 0.10068879 0.0952536\n",
            " 0.09773325 0.09680651 0.10413055 0.10618819 0.10824777 0.11031665\n",
            " 0.11238714 0.11444764 0.11648759 0.11849907 0.12047669 0.1224173\n",
            " 0.1243193  0.12618217 0.12800598 0.12979129 0.13153882 0.13324936\n",
            " 0.13492376 0.13656276 0.13816728 0.13973802 0.14127572 0.14278109\n",
            " 0.14425491 0.14569774 0.14711034 0.14849336]\n",
            "26 day output [[0.14984748]]\n",
            "27 day input [0.1806387  0.17765811 0.16974327 0.16899186 0.17933626 0.17087038\n",
            " 0.16278021 0.16355667 0.15842204 0.14755166 0.15233563 0.1591985\n",
            " 0.1463995  0.14584847 0.15168441 0.15125861 0.14922981 0.13763306\n",
            " 0.14036318 0.12513463 0.12455855 0.14226675 0.12726362 0.12804008\n",
            " 0.13184721 0.14822793 0.12505949 0.12633688 0.11326237 0.11939887\n",
            " 0.09933626 0.08946775 0.10086412 0.09693175 0.10619912 0.08510958\n",
            " 0.07641828 0.07701941 0.09084534 0.08395742 0.08435817 0.09252348\n",
            " 0.107201   0.10519724 0.10487163 0.11113338 0.096531   0.09843456\n",
            " 0.10487163 0.10299311 0.08966813 0.07586725 0.0627176  0.06492173\n",
            " 0.07160927 0.05815905 0.06191609 0.07271133 0.07140889 0.0787226\n",
            " 0.08721353 0.08721353 0.07664371 0.08112711 0.07484033 0.0803757\n",
            " 0.08696306 0.09036944 0.09896055 0.10068879 0.0952536  0.09773325\n",
            " 0.09680651 0.10413055 0.10618819 0.10824777 0.11031665 0.11238714\n",
            " 0.11444764 0.11648759 0.11849907 0.12047669 0.1224173  0.1243193\n",
            " 0.12618217 0.12800598 0.12979129 0.13153882 0.13324936 0.13492376\n",
            " 0.13656276 0.13816728 0.13973802 0.14127572 0.14278109 0.14425491\n",
            " 0.14569774 0.14711034 0.14849336 0.14984748]\n",
            "27 day output [[0.1511734]]\n",
            "28 day input [0.17765811 0.16974327 0.16899186 0.17933626 0.17087038 0.16278021\n",
            " 0.16355667 0.15842204 0.14755166 0.15233563 0.1591985  0.1463995\n",
            " 0.14584847 0.15168441 0.15125861 0.14922981 0.13763306 0.14036318\n",
            " 0.12513463 0.12455855 0.14226675 0.12726362 0.12804008 0.13184721\n",
            " 0.14822793 0.12505949 0.12633688 0.11326237 0.11939887 0.09933626\n",
            " 0.08946775 0.10086412 0.09693175 0.10619912 0.08510958 0.07641828\n",
            " 0.07701941 0.09084534 0.08395742 0.08435817 0.09252348 0.107201\n",
            " 0.10519724 0.10487163 0.11113338 0.096531   0.09843456 0.10487163\n",
            " 0.10299311 0.08966813 0.07586725 0.0627176  0.06492173 0.07160927\n",
            " 0.05815905 0.06191609 0.07271133 0.07140889 0.0787226  0.08721353\n",
            " 0.08721353 0.07664371 0.08112711 0.07484033 0.0803757  0.08696306\n",
            " 0.09036944 0.09896055 0.10068879 0.0952536  0.09773325 0.09680651\n",
            " 0.10413055 0.10618819 0.10824777 0.11031665 0.11238714 0.11444764\n",
            " 0.11648759 0.11849907 0.12047669 0.1224173  0.1243193  0.12618217\n",
            " 0.12800598 0.12979129 0.13153882 0.13324936 0.13492376 0.13656276\n",
            " 0.13816728 0.13973802 0.14127572 0.14278109 0.14425491 0.14569774\n",
            " 0.14711034 0.14849336 0.14984748 0.1511734 ]\n",
            "28 day output [[0.1524718]]\n",
            "29 day input [0.16974327 0.16899186 0.17933626 0.17087038 0.16278021 0.16355667\n",
            " 0.15842204 0.14755166 0.15233563 0.1591985  0.1463995  0.14584847\n",
            " 0.15168441 0.15125861 0.14922981 0.13763306 0.14036318 0.12513463\n",
            " 0.12455855 0.14226675 0.12726362 0.12804008 0.13184721 0.14822793\n",
            " 0.12505949 0.12633688 0.11326237 0.11939887 0.09933626 0.08946775\n",
            " 0.10086412 0.09693175 0.10619912 0.08510958 0.07641828 0.07701941\n",
            " 0.09084534 0.08395742 0.08435817 0.09252348 0.107201   0.10519724\n",
            " 0.10487163 0.11113338 0.096531   0.09843456 0.10487163 0.10299311\n",
            " 0.08966813 0.07586725 0.0627176  0.06492173 0.07160927 0.05815905\n",
            " 0.06191609 0.07271133 0.07140889 0.0787226  0.08721353 0.08721353\n",
            " 0.07664371 0.08112711 0.07484033 0.0803757  0.08696306 0.09036944\n",
            " 0.09896055 0.10068879 0.0952536  0.09773325 0.09680651 0.10413055\n",
            " 0.10618819 0.10824777 0.11031665 0.11238714 0.11444764 0.11648759\n",
            " 0.11849907 0.12047669 0.1224173  0.1243193  0.12618217 0.12800598\n",
            " 0.12979129 0.13153882 0.13324936 0.13492376 0.13656276 0.13816728\n",
            " 0.13973802 0.14127572 0.14278109 0.14425491 0.14569774 0.14711034\n",
            " 0.14849336 0.14984748 0.1511734  0.1524718 ]\n",
            "29 day output [[0.15374339]]\n",
            "[[0.10413055121898651], [0.10618819296360016], [0.108247771859169], [0.11031664907932281], [0.11238713562488556], [0.11444763839244843], [0.11648759245872498], [0.11849907040596008], [0.12047669291496277], [0.12241730093955994], [0.12431930005550385], [0.1261821687221527], [0.1280059814453125], [0.1297912895679474], [0.13153882324695587], [0.13324935734272003], [0.1349237561225891], [0.1365627646446228], [0.13816727697849274], [0.1397380232810974], [0.14127571880817413], [0.1427810937166214], [0.1442549079656601], [0.14569774270057678], [0.14711034297943115], [0.14849336445331573], [0.14984747767448425], [0.151173397898674], [0.15247179567813873], [0.15374338626861572]]\n"
          ]
        }
      ]
    },
    {
      "cell_type": "code",
      "source": [
        "day_new=np.arange(1,101)\n",
        "day_pred=np.arange(101,131)"
      ],
      "metadata": {
        "id": "w8NQxVVGqm9H"
      },
      "execution_count": 31,
      "outputs": []
    },
    {
      "cell_type": "code",
      "source": [
        "len(df1)"
      ],
      "metadata": {
        "colab": {
          "base_uri": "https://localhost:8080/"
        },
        "id": "22Q_Or3jqzle",
        "outputId": "41e2c138-bc95-4b71-d94b-4d329d0347f3"
      },
      "execution_count": 32,
      "outputs": [
        {
          "output_type": "execute_result",
          "data": {
            "text/plain": [
              "1257"
            ]
          },
          "metadata": {},
          "execution_count": 32
        }
      ]
    },
    {
      "cell_type": "code",
      "source": [
        "plt.plot(day_new,scaler.inverse_transform(df1[1157:]),label='Real data')\n",
        "plt.plot(day_pred,scaler.inverse_transform(lst_output),label='30 days predicted data')\n",
        "plt.xlabel('Days')\n",
        "plt.ylabel('Prices')\n",
        "plt.legend()\n",
        "plt.show()"
      ],
      "metadata": {
        "colab": {
          "base_uri": "https://localhost:8080/",
          "height": 279
        },
        "id": "WCvedMC2q4na",
        "outputId": "d2aeda84-851b-44dc-cc54-68577504696e"
      },
      "execution_count": 35,
      "outputs": [
        {
          "output_type": "display_data",
          "data": {
            "text/plain": [
              "<Figure size 432x288 with 1 Axes>"
            ],
            "image/png": "[encoded data removed]"
          },
          "metadata": {
            "needs_background": "light"
          }
        }
      ]
    },
    {
      "cell_type": "code",
      "source": [
        "df3=df1.tolist()\n",
        "df3.extend(lst_output)\n",
        "plt.plot(df3[1200:])"
      ],
      "metadata": {
        "colab": {
          "base_uri": "https://localhost:8080/",
          "height": 282
        },
        "id": "d6Hia66atjMz",
        "outputId": "2e95e4c2-2418-4072-f35e-e4e7f6359e28"
      },
      "execution_count": 36,
      "outputs": [
        {
          "output_type": "execute_result",
          "data": {
            "text/plain": [
              "[<matplotlib.lines.Line2D at 0x7fdd6ffb8f10>]"
            ]
          },
          "metadata": {},
          "execution_count": 36
        },
        {
          "output_type": "display_data",
          "data": {
            "text/plain": [
              "<Figure size 432x288 with 1 Axes>"
            ],
            "image/png": "[encoded data removed]"
          },
          "metadata": {
            "needs_background": "light"
          }
        }
      ]
    },
    {
      "cell_type": "code",
      "source": [
        "df3=scaler.inverse_transform(df3).tolist()\n",
        "plt.plot(df3)"
      ],
      "metadata": {
        "colab": {
          "base_uri": "https://localhost:8080/",
          "height": 282
        },
        "id": "A035dUSJt2KC",
        "outputId": "add47029-55e9-4d33-8462-2537a6fcd08f"
      },
      "execution_count": 37,
      "outputs": [
        {
          "output_type": "execute_result",
          "data": {
            "text/plain": [
              "[<matplotlib.lines.Line2D at 0x7fdd6ff51950>]"
            ]
          },
          "metadata": {},
          "execution_count": 37
        },
        {
          "output_type": "display_data",
          "data": {
            "text/plain": [
              "<Figure size 432x288 with 1 Axes>"
            ],
            "image/png": "[encoded data removed]"
          },
          "metadata": {
            "needs_background": "light"
          }
        }
      ]
    }
  ]
}